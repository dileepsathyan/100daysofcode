{
 "cells": [
  {
   "cell_type": "markdown",
   "metadata": {
    "id": "G84Ou4crSeEN"
   },
   "source": [
    "# Importing the Data Wrangling and Visualization libaries"
   ]
  },
  {
   "cell_type": "code",
   "execution_count": 2,
   "metadata": {
    "id": "qYPnB_21RUw6"
   },
   "outputs": [],
   "source": [
    "import numpy as np\n",
    "import pandas as pd\n",
    "\n",
    "import matplotlib.pyplot as plt\n",
    "import seaborn as sns\n",
    "%matplotlib inline\n",
    "#sns.set_theme(style = \"darkgrid\")"
   ]
  },
  {
   "cell_type": "markdown",
   "metadata": {
    "id": "2bpTlj0lSbRH"
   },
   "source": [
    "# Importing the dataset"
   ]
  },
  {
   "cell_type": "code",
   "execution_count": 3,
   "metadata": {
    "colab": {
     "base_uri": "https://localhost:8080/",
     "height": 300
    },
    "id": "i8b3XxBoRyt8",
    "outputId": "7bdb40be-323a-4101-ccc2-a646d4fbca69"
   },
   "outputs": [
    {
     "data": {
      "text/html": [
       "<div>\n",
       "<style scoped>\n",
       "    .dataframe tbody tr th:only-of-type {\n",
       "        vertical-align: middle;\n",
       "    }\n",
       "\n",
       "    .dataframe tbody tr th {\n",
       "        vertical-align: top;\n",
       "    }\n",
       "\n",
       "    .dataframe thead th {\n",
       "        text-align: right;\n",
       "    }\n",
       "</style>\n",
       "<table border=\"1\" class=\"dataframe\">\n",
       "  <thead>\n",
       "    <tr style=\"text-align: right;\">\n",
       "      <th></th>\n",
       "      <th>subject_id</th>\n",
       "      <th>account_id</th>\n",
       "      <th>DATE_REPORTED</th>\n",
       "      <th>currency_code</th>\n",
       "      <th>REPAYMENT_FREQUENCY</th>\n",
       "      <th>NUMBER_OF_INSTALLMENTS</th>\n",
       "      <th>SANCTION_AMT</th>\n",
       "      <th>TOT_OUTSTD_BAL</th>\n",
       "      <th>OVER_DUE_AMT</th>\n",
       "      <th>AMOUNT_OF_INSTALLMENT</th>\n",
       "      <th>...</th>\n",
       "      <th>LAST_AMOUNT_PAID</th>\n",
       "      <th>DATE_ACC_OPEN</th>\n",
       "      <th>DATE_ACC_CLOSE</th>\n",
       "      <th>INSTALMENT_LOAN_TYPE</th>\n",
       "      <th>loan_status</th>\n",
       "      <th>ASSET_CLASSIFICATION</th>\n",
       "      <th>REASON_FOR_CLOSURE</th>\n",
       "      <th>NO_OF_DAYS_PAST_DUE</th>\n",
       "      <th>LOAN_TENURE</th>\n",
       "      <th>EXPECTED_END_DATE_OF_LOAN</th>\n",
       "    </tr>\n",
       "  </thead>\n",
       "  <tbody>\n",
       "    <tr>\n",
       "      <th>0</th>\n",
       "      <td>110113010000498773</td>\n",
       "      <td>2201160002396407</td>\n",
       "      <td>02-JAN-18</td>\n",
       "      <td>TZS</td>\n",
       "      <td>MonthlyInstalments30Days</td>\n",
       "      <td>6.0</td>\n",
       "      <td>400000.0</td>\n",
       "      <td>0.00</td>\n",
       "      <td>205609.4</td>\n",
       "      <td>0.00</td>\n",
       "      <td>...</td>\n",
       "      <td>NaN</td>\n",
       "      <td>29-JUN-16</td>\n",
       "      <td>29-DEC-16</td>\n",
       "      <td>OtherInstalmentOperation</td>\n",
       "      <td>Existing</td>\n",
       "      <td>NaN</td>\n",
       "      <td>NaN</td>\n",
       "      <td>399.0</td>\n",
       "      <td>NaN</td>\n",
       "      <td>29-DEC-16</td>\n",
       "    </tr>\n",
       "    <tr>\n",
       "      <th>1</th>\n",
       "      <td>110115010001596750</td>\n",
       "      <td>2201170002990772</td>\n",
       "      <td>08-JAN-18</td>\n",
       "      <td>TZS</td>\n",
       "      <td>MonthlyInstalments30Days</td>\n",
       "      <td>61.0</td>\n",
       "      <td>3500000.0</td>\n",
       "      <td>3272849.49</td>\n",
       "      <td>0.0</td>\n",
       "      <td>100243.11</td>\n",
       "      <td>...</td>\n",
       "      <td>NaN</td>\n",
       "      <td>29-JUN-17</td>\n",
       "      <td>05-JUL-22</td>\n",
       "      <td>ConsumerLoan</td>\n",
       "      <td>Existing</td>\n",
       "      <td>NaN</td>\n",
       "      <td>NaN</td>\n",
       "      <td>0.0</td>\n",
       "      <td>NaN</td>\n",
       "      <td>05-JUL-22</td>\n",
       "    </tr>\n",
       "    <tr>\n",
       "      <th>2</th>\n",
       "      <td>110114010000832340</td>\n",
       "      <td>2201140001177207</td>\n",
       "      <td>02-JAN-18</td>\n",
       "      <td>TZS</td>\n",
       "      <td>MonthlyInstalments30Days</td>\n",
       "      <td>57.0</td>\n",
       "      <td>4200000.0</td>\n",
       "      <td>870462.93</td>\n",
       "      <td>0.0</td>\n",
       "      <td>106652.40</td>\n",
       "      <td>...</td>\n",
       "      <td>NaN</td>\n",
       "      <td>27-DEC-13</td>\n",
       "      <td>NaN</td>\n",
       "      <td>ConsumerLoan</td>\n",
       "      <td>Existing</td>\n",
       "      <td>NaN</td>\n",
       "      <td>NaN</td>\n",
       "      <td>0.0</td>\n",
       "      <td>NaN</td>\n",
       "      <td>27-SEP-18</td>\n",
       "    </tr>\n",
       "    <tr>\n",
       "      <th>3</th>\n",
       "      <td>110114010000740514</td>\n",
       "      <td>2201160002371670</td>\n",
       "      <td>02-JAN-18</td>\n",
       "      <td>TZS</td>\n",
       "      <td>MonthlyInstalments30Days</td>\n",
       "      <td>24.0</td>\n",
       "      <td>60000000.0</td>\n",
       "      <td>15740676.93</td>\n",
       "      <td>0.0</td>\n",
       "      <td>2987342.81</td>\n",
       "      <td>...</td>\n",
       "      <td>NaN</td>\n",
       "      <td>11-MAY-16</td>\n",
       "      <td>NaN</td>\n",
       "      <td>BusinessLoan</td>\n",
       "      <td>Existing</td>\n",
       "      <td>NaN</td>\n",
       "      <td>NaN</td>\n",
       "      <td>18.0</td>\n",
       "      <td>NaN</td>\n",
       "      <td>11-MAY-18</td>\n",
       "    </tr>\n",
       "    <tr>\n",
       "      <th>4</th>\n",
       "      <td>110114010000811717</td>\n",
       "      <td>2201140001161294</td>\n",
       "      <td>08-JAN-18</td>\n",
       "      <td>TZS</td>\n",
       "      <td>MonthlyInstalments30Days</td>\n",
       "      <td>69.0</td>\n",
       "      <td>3400000.0</td>\n",
       "      <td>828981.51</td>\n",
       "      <td>0.0</td>\n",
       "      <td>99164.00</td>\n",
       "      <td>...</td>\n",
       "      <td>NaN</td>\n",
       "      <td>20-FEB-13</td>\n",
       "      <td>16-NOV-18</td>\n",
       "      <td>ConsumerLoan</td>\n",
       "      <td>Existing</td>\n",
       "      <td>NaN</td>\n",
       "      <td>NaN</td>\n",
       "      <td>0.0</td>\n",
       "      <td>NaN</td>\n",
       "      <td>16-NOV-18</td>\n",
       "    </tr>\n",
       "  </tbody>\n",
       "</table>\n",
       "<p>5 rows × 21 columns</p>\n",
       "</div>"
      ],
      "text/plain": [
       "           subject_id        account_id DATE_REPORTED currency_code  \\\n",
       "0  110113010000498773  2201160002396407     02-JAN-18           TZS   \n",
       "1  110115010001596750  2201170002990772     08-JAN-18           TZS   \n",
       "2  110114010000832340  2201140001177207     02-JAN-18           TZS   \n",
       "3  110114010000740514  2201160002371670     02-JAN-18           TZS   \n",
       "4  110114010000811717  2201140001161294     08-JAN-18           TZS   \n",
       "\n",
       "        REPAYMENT_FREQUENCY  NUMBER_OF_INSTALLMENTS  SANCTION_AMT  \\\n",
       "0  MonthlyInstalments30Days                     6.0      400000.0   \n",
       "1  MonthlyInstalments30Days                    61.0     3500000.0   \n",
       "2  MonthlyInstalments30Days                    57.0     4200000.0   \n",
       "3  MonthlyInstalments30Days                    24.0    60000000.0   \n",
       "4  MonthlyInstalments30Days                    69.0     3400000.0   \n",
       "\n",
       "   TOT_OUTSTD_BAL  OVER_DUE_AMT  AMOUNT_OF_INSTALLMENT  ... LAST_AMOUNT_PAID  \\\n",
       "0            0.00      205609.4                   0.00  ...              NaN   \n",
       "1      3272849.49           0.0              100243.11  ...              NaN   \n",
       "2       870462.93           0.0              106652.40  ...              NaN   \n",
       "3     15740676.93           0.0             2987342.81  ...              NaN   \n",
       "4       828981.51           0.0               99164.00  ...              NaN   \n",
       "\n",
       "   DATE_ACC_OPEN DATE_ACC_CLOSE      INSTALMENT_LOAN_TYPE loan_status  \\\n",
       "0      29-JUN-16      29-DEC-16  OtherInstalmentOperation    Existing   \n",
       "1      29-JUN-17      05-JUL-22              ConsumerLoan    Existing   \n",
       "2      27-DEC-13            NaN              ConsumerLoan    Existing   \n",
       "3      11-MAY-16            NaN              BusinessLoan    Existing   \n",
       "4      20-FEB-13      16-NOV-18              ConsumerLoan    Existing   \n",
       "\n",
       "  ASSET_CLASSIFICATION  REASON_FOR_CLOSURE  NO_OF_DAYS_PAST_DUE  LOAN_TENURE  \\\n",
       "0                  NaN                 NaN                399.0          NaN   \n",
       "1                  NaN                 NaN                  0.0          NaN   \n",
       "2                  NaN                 NaN                  0.0          NaN   \n",
       "3                  NaN                 NaN                 18.0          NaN   \n",
       "4                  NaN                 NaN                  0.0          NaN   \n",
       "\n",
       "   EXPECTED_END_DATE_OF_LOAN  \n",
       "0                  29-DEC-16  \n",
       "1                  05-JUL-22  \n",
       "2                  27-SEP-18  \n",
       "3                  11-MAY-18  \n",
       "4                  16-NOV-18  \n",
       "\n",
       "[5 rows x 21 columns]"
      ]
     },
     "execution_count": 3,
     "metadata": {},
     "output_type": "execute_result"
    }
   ],
   "source": [
    "df = pd.read_csv('/Users/dileepsathyan/Documents/GitHub/datasets/Borrower_Payment_History.csv')\n",
    "df.head()"
   ]
  },
  {
   "cell_type": "markdown",
   "metadata": {
    "id": "DwnQnsBbSXRm"
   },
   "source": [
    "# Explore the basics of the Dataset"
   ]
  },
  {
   "cell_type": "code",
   "execution_count": 4,
   "metadata": {
    "colab": {
     "base_uri": "https://localhost:8080/"
    },
    "id": "Qr-6Lt66SPCy",
    "outputId": "35c8c1a6-6556-479e-f91d-b94c8cff6062"
   },
   "outputs": [
    {
     "name": "stdout",
     "output_type": "stream",
     "text": [
      "Rows:  6000 | Columns:  21\n"
     ]
    }
   ],
   "source": [
    "# Check the size of the dataframe\n",
    "\n",
    "rows, cols = df.shape\n",
    "print('Rows: ', rows, '| Columns: ', cols)"
   ]
  },
  {
   "cell_type": "code",
   "execution_count": 5,
   "metadata": {
    "colab": {
     "base_uri": "https://localhost:8080/"
    },
    "id": "i0Z0UtmyT0RX",
    "outputId": "57211b9e-d5f5-4354-dae9-873075ed3cbd"
   },
   "outputs": [
    {
     "data": {
      "text/plain": [
       "Index(['subject_id', 'account_id', 'DATE_REPORTED', 'currency_code',\n",
       "       'REPAYMENT_FREQUENCY', 'NUMBER_OF_INSTALLMENTS', 'SANCTION_AMT',\n",
       "       'TOT_OUTSTD_BAL', 'OVER_DUE_AMT', 'AMOUNT_OF_INSTALLMENT',\n",
       "       'DATE_LATEST_PAY_RECEIVED', 'LAST_AMOUNT_PAID', 'DATE_ACC_OPEN',\n",
       "       'DATE_ACC_CLOSE', 'INSTALMENT_LOAN_TYPE', 'loan_status',\n",
       "       'ASSET_CLASSIFICATION', 'REASON_FOR_CLOSURE', 'NO_OF_DAYS_PAST_DUE',\n",
       "       'LOAN_TENURE', 'EXPECTED_END_DATE_OF_LOAN'],\n",
       "      dtype='object')"
      ]
     },
     "execution_count": 5,
     "metadata": {},
     "output_type": "execute_result"
    }
   ],
   "source": [
    "# Understand the fields in the dataframe\n",
    "\n",
    "df.columns"
   ]
  },
  {
   "cell_type": "code",
   "execution_count": 6,
   "metadata": {
    "colab": {
     "base_uri": "https://localhost:8080/"
    },
    "id": "HQRN-_gKS8xM",
    "outputId": "1abbe72c-0ca2-4b4e-be6e-233a93c75e5f"
   },
   "outputs": [
    {
     "name": "stdout",
     "output_type": "stream",
     "text": [
      "<class 'pandas.core.frame.DataFrame'>\n",
      "RangeIndex: 6000 entries, 0 to 5999\n",
      "Data columns (total 21 columns):\n",
      " #   Column                     Non-Null Count  Dtype  \n",
      "---  ------                     --------------  -----  \n",
      " 0   subject_id                 6000 non-null   int64  \n",
      " 1   account_id                 6000 non-null   int64  \n",
      " 2   DATE_REPORTED              6000 non-null   object \n",
      " 3   currency_code              6000 non-null   object \n",
      " 4   REPAYMENT_FREQUENCY        5982 non-null   object \n",
      " 5   NUMBER_OF_INSTALLMENTS     5921 non-null   float64\n",
      " 6   SANCTION_AMT               6000 non-null   float64\n",
      " 7   TOT_OUTSTD_BAL             5981 non-null   float64\n",
      " 8   OVER_DUE_AMT               5993 non-null   float64\n",
      " 9   AMOUNT_OF_INSTALLMENT      5972 non-null   float64\n",
      " 10  DATE_LATEST_PAY_RECEIVED   4647 non-null   object \n",
      " 11  LAST_AMOUNT_PAID           0 non-null      float64\n",
      " 12  DATE_ACC_OPEN              6000 non-null   object \n",
      " 13  DATE_ACC_CLOSE             2934 non-null   object \n",
      " 14  INSTALMENT_LOAN_TYPE       5920 non-null   object \n",
      " 15  loan_status                6000 non-null   object \n",
      " 16  ASSET_CLASSIFICATION       0 non-null      float64\n",
      " 17  REASON_FOR_CLOSURE         0 non-null      float64\n",
      " 18  NO_OF_DAYS_PAST_DUE        5929 non-null   float64\n",
      " 19  LOAN_TENURE                0 non-null      float64\n",
      " 20  EXPECTED_END_DATE_OF_LOAN  6000 non-null   object \n",
      "dtypes: float64(10), int64(2), object(9)\n",
      "memory usage: 984.5+ KB\n"
     ]
    }
   ],
   "source": [
    "# Check the datatypes\n",
    "\n",
    "df.info()"
   ]
  },
  {
   "cell_type": "markdown",
   "metadata": {
    "id": "RIh2gW1LUxHJ"
   },
   "source": [
    "# Data Cleaning"
   ]
  },
  {
   "cell_type": "code",
   "execution_count": 7,
   "metadata": {
    "colab": {
     "base_uri": "https://localhost:8080/"
    },
    "id": "mQRZRnuhUtxA",
    "outputId": "10b7518b-892b-4f47-aee1-8477f908a625"
   },
   "outputs": [
    {
     "data": {
      "text/plain": [
       "(6000, 17)"
      ]
     },
     "execution_count": 7,
     "metadata": {},
     "output_type": "execute_result"
    }
   ],
   "source": [
    "# Drop the fields which are completely NULL\n",
    "\n",
    "df1 = df.drop(columns=['LAST_AMOUNT_PAID', 'ASSET_CLASSIFICATION', 'REASON_FOR_CLOSURE', 'LOAN_TENURE'])\n",
    "df1.shape"
   ]
  },
  {
   "cell_type": "code",
   "execution_count": 8,
   "metadata": {
    "colab": {
     "base_uri": "https://localhost:8080/"
    },
    "id": "G3L-T8mGJU3K",
    "outputId": "72a435b1-e18f-4e56-d165-15070cfbda4f"
   },
   "outputs": [
    {
     "data": {
      "text/plain": [
       "(5982, 17)"
      ]
     },
     "execution_count": 8,
     "metadata": {},
     "output_type": "execute_result"
    }
   ],
   "source": [
    "# Drop duplicated records from the dataframe\n",
    "\n",
    "df1 = df1.drop_duplicates()\n",
    "df1.shape"
   ]
  },
  {
   "cell_type": "code",
   "execution_count": 9,
   "metadata": {
    "id": "AMxv487LUtjX"
   },
   "outputs": [],
   "source": [
    "# Rename the fields uniformly.\n",
    "\n",
    "df1.rename(columns={'subject_id': 'SUBJECT_ID', 'account_id': 'ACCOUNT_ID', \n",
    "                    'currency_code': 'CURR_CODE', 'INSTALMENT_LOAN_TYPE': 'LOAN_TYPE',\n",
    "                    'AMOUNT_OF_INSTALLMENT': 'INSTALLMENT_AMT', \n",
    "                    'DATE_LATEST_PAY_RECEIVED': 'DATE_LATEST_PAYMENT',\n",
    "                    'loan_status': 'LOAN_STATUS', 'NO_OF_DAYS_PAST_DUE': 'DPD',\n",
    "                    'EXPECTED_END_DATE_OF_LOAN': 'DATE_EXP_LOAN_CLOSURE'}, inplace=True)"
   ]
  },
  {
   "cell_type": "code",
   "execution_count": 10,
   "metadata": {
    "colab": {
     "base_uri": "https://localhost:8080/"
    },
    "id": "zNkyCkpfUtsv",
    "outputId": "e52f8130-fe78-44a9-d2e4-847a1589588d"
   },
   "outputs": [
    {
     "name": "stdout",
     "output_type": "stream",
     "text": [
      "<class 'pandas.core.frame.DataFrame'>\n",
      "Int64Index: 5982 entries, 0 to 5999\n",
      "Data columns (total 17 columns):\n",
      " #   Column                  Non-Null Count  Dtype         \n",
      "---  ------                  --------------  -----         \n",
      " 0   SUBJECT_ID              5982 non-null   int64         \n",
      " 1   ACCOUNT_ID              5982 non-null   int64         \n",
      " 2   DATE_REPORTED           5982 non-null   datetime64[ns]\n",
      " 3   CURR_CODE               5982 non-null   object        \n",
      " 4   REPAYMENT_FREQUENCY     5964 non-null   object        \n",
      " 5   NUMBER_OF_INSTALLMENTS  5903 non-null   float64       \n",
      " 6   SANCTION_AMT            5982 non-null   float64       \n",
      " 7   TOT_OUTSTD_BAL          5963 non-null   float64       \n",
      " 8   OVER_DUE_AMT            5975 non-null   float64       \n",
      " 9   INSTALLMENT_AMT         5954 non-null   float64       \n",
      " 10  DATE_LATEST_PAYMENT     4631 non-null   datetime64[ns]\n",
      " 11  DATE_ACC_OPEN           5982 non-null   datetime64[ns]\n",
      " 12  DATE_ACC_CLOSE          2927 non-null   datetime64[ns]\n",
      " 13  LOAN_TYPE               5902 non-null   object        \n",
      " 14  LOAN_STATUS             5982 non-null   object        \n",
      " 15  DPD                     5911 non-null   float64       \n",
      " 16  DATE_EXP_LOAN_CLOSURE   5982 non-null   datetime64[ns]\n",
      "dtypes: datetime64[ns](5), float64(6), int64(2), object(4)\n",
      "memory usage: 841.2+ KB\n"
     ]
    }
   ],
   "source": [
    "# Correct the date fields to the right formats\n",
    "\n",
    "df1['DATE_REPORTED'] = pd.to_datetime(df1['DATE_REPORTED'])\n",
    "df1['DATE_ACC_OPEN'] = pd.to_datetime(df1['DATE_ACC_OPEN'])\n",
    "df1['DATE_ACC_CLOSE'] = pd.to_datetime(df1['DATE_ACC_CLOSE'])\n",
    "df1['DATE_EXP_LOAN_CLOSURE'] = pd.to_datetime(df1['DATE_EXP_LOAN_CLOSURE'])\n",
    "df1['DATE_LATEST_PAYMENT'] = pd.to_datetime(df1['DATE_LATEST_PAYMENT'])\n",
    "\n",
    "df1.info()"
   ]
  },
  {
   "cell_type": "code",
   "execution_count": 11,
   "metadata": {
    "colab": {
     "base_uri": "https://localhost:8080/"
    },
    "id": "R1wTDOXOVhUX",
    "outputId": "e6a5226c-0f4a-491f-9083-d3dddb74e2b3"
   },
   "outputs": [
    {
     "data": {
      "text/plain": [
       "Timestamp('2018-12-10 00:00:00')"
      ]
     },
     "execution_count": 11,
     "metadata": {},
     "output_type": "execute_result"
    }
   ],
   "source": [
    "df1['DATE_REPORTED'].max()"
   ]
  },
  {
   "cell_type": "code",
   "execution_count": 12,
   "metadata": {
    "colab": {
     "base_uri": "https://localhost:8080/",
     "height": 176
    },
    "id": "x9jw6_rviwYv",
    "outputId": "6910fce6-8b3f-4419-c6f9-e7e95eedb6d8"
   },
   "outputs": [
    {
     "data": {
      "text/html": [
       "<div>\n",
       "<style scoped>\n",
       "    .dataframe tbody tr th:only-of-type {\n",
       "        vertical-align: middle;\n",
       "    }\n",
       "\n",
       "    .dataframe tbody tr th {\n",
       "        vertical-align: top;\n",
       "    }\n",
       "\n",
       "    .dataframe thead th {\n",
       "        text-align: right;\n",
       "    }\n",
       "</style>\n",
       "<table border=\"1\" class=\"dataframe\">\n",
       "  <thead>\n",
       "    <tr style=\"text-align: right;\">\n",
       "      <th></th>\n",
       "      <th>SUBJECT_ID</th>\n",
       "      <th>ACCOUNT_ID</th>\n",
       "      <th>DATE_REPORTED</th>\n",
       "      <th>CURR_CODE</th>\n",
       "      <th>REPAYMENT_FREQUENCY</th>\n",
       "      <th>NUMBER_OF_INSTALLMENTS</th>\n",
       "      <th>SANCTION_AMT</th>\n",
       "      <th>TOT_OUTSTD_BAL</th>\n",
       "      <th>OVER_DUE_AMT</th>\n",
       "      <th>INSTALLMENT_AMT</th>\n",
       "      <th>DATE_LATEST_PAYMENT</th>\n",
       "      <th>DATE_ACC_OPEN</th>\n",
       "      <th>DATE_ACC_CLOSE</th>\n",
       "      <th>LOAN_TYPE</th>\n",
       "      <th>LOAN_STATUS</th>\n",
       "      <th>DPD</th>\n",
       "      <th>DATE_EXP_LOAN_CLOSURE</th>\n",
       "    </tr>\n",
       "  </thead>\n",
       "  <tbody>\n",
       "    <tr>\n",
       "      <th>137</th>\n",
       "      <td>110117010002384406</td>\n",
       "      <td>2201170002918195</td>\n",
       "      <td>2018-03-08</td>\n",
       "      <td>TZS</td>\n",
       "      <td>MonthlyInstalments30Days</td>\n",
       "      <td>61.0</td>\n",
       "      <td>10200000.0</td>\n",
       "      <td>8192765.61</td>\n",
       "      <td>0.0</td>\n",
       "      <td>270237.61</td>\n",
       "      <td>2018-02-27</td>\n",
       "      <td>2016-08-19</td>\n",
       "      <td>2021-09-01</td>\n",
       "      <td>ConsumerLoan</td>\n",
       "      <td>Existing</td>\n",
       "      <td>0.0</td>\n",
       "      <td>2021-09-01</td>\n",
       "    </tr>\n",
       "    <tr>\n",
       "      <th>4369</th>\n",
       "      <td>110117010002384406</td>\n",
       "      <td>2201170002918195</td>\n",
       "      <td>2018-06-10</td>\n",
       "      <td>TZS</td>\n",
       "      <td>MonthlyInstalments30Days</td>\n",
       "      <td>61.0</td>\n",
       "      <td>10200000.0</td>\n",
       "      <td>7787140.81</td>\n",
       "      <td>0.0</td>\n",
       "      <td>270237.61</td>\n",
       "      <td>2018-05-25</td>\n",
       "      <td>2016-08-19</td>\n",
       "      <td>2021-09-01</td>\n",
       "      <td>ConsumerLoan</td>\n",
       "      <td>Existing</td>\n",
       "      <td>0.0</td>\n",
       "      <td>2021-09-01</td>\n",
       "    </tr>\n",
       "  </tbody>\n",
       "</table>\n",
       "</div>"
      ],
      "text/plain": [
       "              SUBJECT_ID        ACCOUNT_ID DATE_REPORTED CURR_CODE  \\\n",
       "137   110117010002384406  2201170002918195    2018-03-08       TZS   \n",
       "4369  110117010002384406  2201170002918195    2018-06-10       TZS   \n",
       "\n",
       "           REPAYMENT_FREQUENCY  NUMBER_OF_INSTALLMENTS  SANCTION_AMT  \\\n",
       "137   MonthlyInstalments30Days                    61.0    10200000.0   \n",
       "4369  MonthlyInstalments30Days                    61.0    10200000.0   \n",
       "\n",
       "      TOT_OUTSTD_BAL  OVER_DUE_AMT  INSTALLMENT_AMT DATE_LATEST_PAYMENT  \\\n",
       "137       8192765.61           0.0        270237.61          2018-02-27   \n",
       "4369      7787140.81           0.0        270237.61          2018-05-25   \n",
       "\n",
       "     DATE_ACC_OPEN DATE_ACC_CLOSE     LOAN_TYPE LOAN_STATUS  DPD  \\\n",
       "137     2016-08-19     2021-09-01  ConsumerLoan    Existing  0.0   \n",
       "4369    2016-08-19     2021-09-01  ConsumerLoan    Existing  0.0   \n",
       "\n",
       "     DATE_EXP_LOAN_CLOSURE  \n",
       "137             2021-09-01  \n",
       "4369            2021-09-01  "
      ]
     },
     "execution_count": 12,
     "metadata": {},
     "output_type": "execute_result"
    }
   ],
   "source": [
    "# Note that the Account_ID is repeatedly reported on multiple date.\n",
    "\n",
    "df1[df1['ACCOUNT_ID']== 2201170002918195]"
   ]
  },
  {
   "cell_type": "code",
   "execution_count": 13,
   "metadata": {
    "colab": {
     "base_uri": "https://localhost:8080/"
    },
    "id": "0sOMGyQbL5kw",
    "outputId": "d0332a96-aa87-4107-b0c3-d8d3b7de0390"
   },
   "outputs": [
    {
     "data": {
      "text/plain": [
       "(5969, 17)"
      ]
     },
     "execution_count": 13,
     "metadata": {},
     "output_type": "execute_result"
    }
   ],
   "source": [
    "# Remove multiple entries for same Account_ID reported on different dates to make it unique.\n",
    "\n",
    "df2 = df1.merge(df1.groupby('ACCOUNT_ID')['DATE_REPORTED'].max().reset_index(), \n",
    "                             on=['ACCOUNT_ID', 'DATE_REPORTED'], how='inner')\n",
    "df2.shape"
   ]
  },
  {
   "cell_type": "code",
   "execution_count": 14,
   "metadata": {
    "colab": {
     "base_uri": "https://localhost:8080/"
    },
    "id": "A-3t1zzfWTp7",
    "outputId": "08fc36e1-fd63-4048-e8e8-5150671f51fd"
   },
   "outputs": [
    {
     "data": {
      "text/plain": [
       "(5960, 17)"
      ]
     },
     "execution_count": 14,
     "metadata": {},
     "output_type": "execute_result"
    }
   ],
   "source": [
    "# Drop the records with SANCTION_AMT = 0, which doesnt add value to dataset.\n",
    "\n",
    "df2.drop(df2[df2['SANCTION_AMT'] == 0].index, inplace = True)\n",
    "df2.shape"
   ]
  },
  {
   "cell_type": "markdown",
   "metadata": {
    "id": "eWfLS5-aTx-2"
   },
   "source": [
    "# Handle Missing Values"
   ]
  },
  {
   "cell_type": "code",
   "execution_count": 15,
   "metadata": {
    "colab": {
     "base_uri": "https://localhost:8080/"
    },
    "id": "vuXIaxD3UtgR",
    "outputId": "0741e226-1486-4a5f-f5e7-ec6f56714112"
   },
   "outputs": [
    {
     "data": {
      "text/plain": [
       "SUBJECT_ID                   0\n",
       "ACCOUNT_ID                   0\n",
       "DATE_REPORTED                0\n",
       "CURR_CODE                    0\n",
       "REPAYMENT_FREQUENCY         12\n",
       "NUMBER_OF_INSTALLMENTS      70\n",
       "SANCTION_AMT                 0\n",
       "TOT_OUTSTD_BAL              13\n",
       "OVER_DUE_AMT                 7\n",
       "INSTALLMENT_AMT             22\n",
       "DATE_LATEST_PAYMENT       1345\n",
       "DATE_ACC_OPEN                0\n",
       "DATE_ACC_CLOSE            3046\n",
       "LOAN_TYPE                   80\n",
       "LOAN_STATUS                  0\n",
       "DPD                         71\n",
       "DATE_EXP_LOAN_CLOSURE        0\n",
       "dtype: int64"
      ]
     },
     "execution_count": 15,
     "metadata": {},
     "output_type": "execute_result"
    }
   ],
   "source": [
    "# Check the NULL values in the dataframe\n",
    "\n",
    "df2.isnull().sum()"
   ]
  },
  {
   "cell_type": "code",
   "execution_count": 16,
   "metadata": {
    "colab": {
     "base_uri": "https://localhost:8080/"
    },
    "id": "8MELEHsHeeJX",
    "outputId": "75eeec34-bb66-4f63-e682-eebfe5736d7e"
   },
   "outputs": [
    {
     "data": {
      "text/plain": [
       "MonthlyInstalments30Days              5684\n",
       "AtTheFinalDayOfThePeriodOfContract     197\n",
       "IrregularInstalments                    40\n",
       "FortnightlyInstalments15Days            25\n",
       "AnnualInstalments360Days                 1\n",
       "SixMonthInstalments180Days               1\n",
       "Name: REPAYMENT_FREQUENCY, dtype: int64"
      ]
     },
     "execution_count": 16,
     "metadata": {},
     "output_type": "execute_result"
    }
   ],
   "source": [
    "# Find the values in REPAYMENT_FREQUENCY.\n",
    "\n",
    "df2['REPAYMENT_FREQUENCY'].value_counts()"
   ]
  },
  {
   "cell_type": "code",
   "execution_count": 17,
   "metadata": {
    "colab": {
     "base_uri": "https://localhost:8080/"
    },
    "id": "u7C-UBSxeuIc",
    "outputId": "149acfd7-2479-47d1-9900-6f4dd6e0646b"
   },
   "outputs": [
    {
     "data": {
      "text/plain": [
       "ConsumerLoan                3795\n",
       "BusinessLoan                1678\n",
       "OtherInstalmentOperation     310\n",
       "CreditCard                    58\n",
       "MortgageLoan                  16\n",
       "Overdraft                     12\n",
       "LeasingFinancial              11\n",
       "Name: LOAN_TYPE, dtype: int64"
      ]
     },
     "execution_count": 17,
     "metadata": {},
     "output_type": "execute_result"
    }
   ],
   "source": [
    "# Find the values in LOAN_TYPE.\n",
    "\n",
    "df2['LOAN_TYPE'].value_counts()"
   ]
  },
  {
   "cell_type": "code",
   "execution_count": 18,
   "metadata": {
    "colab": {
     "base_uri": "https://localhost:8080/"
    },
    "id": "U0F_4eLpfEKG",
    "outputId": "0c89bd2d-d138-4a5b-9b1c-d45267b72cd6"
   },
   "outputs": [
    {
     "data": {
      "text/plain": [
       "Existing                          4914\n",
       "TerminatedAccordingTheContract     760\n",
       "TerminatedInAdvanceCorrectly       279\n",
       "TerminatedInAdvanceIncorrectly       7\n",
       "Name: LOAN_STATUS, dtype: int64"
      ]
     },
     "execution_count": 18,
     "metadata": {},
     "output_type": "execute_result"
    }
   ],
   "source": [
    "# Find the values in LOAN_STATUS.\n",
    "\n",
    "df2['LOAN_STATUS'].value_counts()"
   ]
  },
  {
   "cell_type": "code",
   "execution_count": 19,
   "metadata": {
    "id": "fH3riPQWkQle"
   },
   "outputs": [],
   "source": [
    "# Fill the missing the 'REPAYMENT_FREQUENCY' field values\n",
    "\n",
    "# For LOAN_TYPE == 'Overdraft', the payment cannot have installments but 1 single payment.\n",
    "df2['REPAYMENT_FREQUENCY'] = np.where(df2['LOAN_TYPE'] == \"Overdraft\", \n",
    "                                      'AtTheFinalDayOfThePeriodOfContract', \n",
    "                                      df2['REPAYMENT_FREQUENCY'])\n",
    "\n",
    "# # For the rest, lets fill it with the mode of the field values.\n",
    "# df2['REPAYMENT_FREQUENCY'].fillna(df2['REPAYMENT_FREQUENCY'].mode()[0], inplace=True)"
   ]
  },
  {
   "cell_type": "code",
   "execution_count": 20,
   "metadata": {
    "id": "ptw_Nri9T1lF"
   },
   "outputs": [],
   "source": [
    "# Create a function which calculates the number of installments based on the DATE_ACC_OPEN and DATE_EXP_LOAN_CLOSURE\n",
    "\n",
    "def calc_instal_count(freq, end_date, open_date):\n",
    "    if freq == 'FortnightlyInstalments15Days':\n",
    "        tenure = (end_date - open_date) / np.timedelta64(1, 'D') / 15\n",
    "        return tenure\n",
    "    elif freq == 'MonthlyInstalments30Days':\n",
    "        tenure = (end_date - open_date) / np.timedelta64(1, 'D') / 30\n",
    "        return tenure\n",
    "    elif freq == 'AnnualInstalments360Days':\n",
    "        tenure = (end_date - open_date) / np.timedelta64(1, 'D') / 360\n",
    "        return tenure\n",
    "    elif freq == 'SixMonthInstalments180Days':\n",
    "        tenure = (end_date - open_date) / np.timedelta64(1, 'D') / 180\n",
    "        return tenure\n",
    "    elif freq == 'AtTheFinalDayOfThePeriodOfContract':\n",
    "        tenure = 1\n",
    "        return tenure\n",
    "    else:\n",
    "      return 1"
   ]
  },
  {
   "cell_type": "code",
   "execution_count": 21,
   "metadata": {
    "id": "U6MxqQEJfwL5"
   },
   "outputs": [],
   "source": [
    "# Replace the Number of Installments field with calculated NON NULL values\n",
    "\n",
    "df2['NUMBER_OF_INSTALLMENTS'] = df2.apply(lambda x: calc_instal_count(x['REPAYMENT_FREQUENCY'], \n",
    "                                                                      x['DATE_EXP_LOAN_CLOSURE'], \n",
    "                                                                      x['DATE_ACC_OPEN']), axis=1)\n",
    "df2['NUMBER_OF_INSTALLMENTS'] = df2['NUMBER_OF_INSTALLMENTS'].apply(np.floor)"
   ]
  },
  {
   "cell_type": "code",
   "execution_count": 22,
   "metadata": {
    "id": "1Ij5glLwrAld"
   },
   "outputs": [],
   "source": [
    "# Fill in the INSTALLMENT_AMT field by dividing SANCTION_AMT with NUMBER_OF_INSTALLMENTS\n",
    "\n",
    "df2['INSTALLMENT_AMT'].fillna(df2['SANCTION_AMT'] / df2['NUMBER_OF_INSTALLMENTS'], inplace=True)"
   ]
  },
  {
   "cell_type": "code",
   "execution_count": 23,
   "metadata": {
    "id": "xViOEOdoAPPo"
   },
   "outputs": [],
   "source": [
    "# Fill in missing the OVER_DUE_AMT\n",
    "\n",
    "# For the loans which are Terminated properly, there should not be any Over-Due Amount\n",
    "df2.loc[df2['LOAN_STATUS']=='TerminatedAccordingTheContract','OVER_DUE_AMT'] = 0\n",
    "\n",
    "# The loans with DPD ==0, there should not be Over_Due_Amount\n",
    "df2.loc[(df2['OVER_DUE_AMT'].isnull()) & (df2['DPD']==0),'OVER_DUE_AMT'] = 0\n",
    "\n",
    "# For the rest of the loans with status \"Existing\", since they all have Repayment Frequency of 30 days &\n",
    "# since the DPDs are less than 30, their OVER_DUE should be equal to INSTALLMENT_AMT\n",
    "df2['OVER_DUE_AMT'].fillna(df2['INSTALLMENT_AMT'], inplace=True)"
   ]
  },
  {
   "cell_type": "code",
   "execution_count": 24,
   "metadata": {
    "id": "7K6tvD8jrAUz"
   },
   "outputs": [],
   "source": [
    "# Fill in the TOT-OUTSTD_BAL field with 2 logics.\n",
    "\n",
    "# For DPD >0 customers, their Oust_Bal must be greater than Over_Due. \n",
    "# However, we shall consider the same amount here as we dont have the Total_Paid on date.\n",
    "df2.loc[(df2['TOT_OUTSTD_BAL'].isnull()) & (df2['DPD']>0),'TOT_OUTSTD_BAL'] = df2['OVER_DUE_AMT']\n",
    "\n",
    "# For DPD ==0 customers, their oustanding is at the least their next INSTALLMENT_AMT\n",
    "df2.loc[(df2['TOT_OUTSTD_BAL'].isnull()) & (df2['DPD']==0),'TOT_OUTSTD_BAL'] = df2['INSTALLMENT_AMT']"
   ]
  },
  {
   "cell_type": "code",
   "execution_count": 25,
   "metadata": {
    "id": "eYbTMvriAPKT"
   },
   "outputs": [],
   "source": [
    "# Fill in the missing LOAN_TYPE with the mode value.\n",
    "# Because, find the the correct Loan_type using the Number of Installments seems difficult \n",
    "# as even the loans from Credit Cards are allowed to pay in longer installments\n",
    "\n",
    "df2['LOAN_TYPE'].fillna(df2['LOAN_TYPE'].mode()[0], inplace=True)"
   ]
  },
  {
   "cell_type": "code",
   "execution_count": 26,
   "metadata": {
    "id": "0cN_uwqUnbvQ"
   },
   "outputs": [],
   "source": [
    "# Fill in the missing DPD days.\n",
    "\n",
    "# For those loans which have valid LATEST_PAYMENT_DATE, if the OVER_DUE exists, find the days_diff from reporting date.\n",
    "df2.loc[(df2['OVER_DUE_AMT']>0) & \n",
    "        (df2['DATE_LATEST_PAYMENT'].notnull()) & \n",
    "        (df2['DPD'].isnull()), 'DPD'] = (df2['DATE_REPORTED'] - df2['DATE_LATEST_PAYMENT']) / np.timedelta64(1, 'D')"
   ]
  },
  {
   "cell_type": "code",
   "execution_count": 27,
   "metadata": {
    "id": "X1uZE9xvKmvw"
   },
   "outputs": [],
   "source": [
    "# Loans which are to be paid at the end of the contract, DPD should be 0\n",
    "df2.loc[(df2['DPD'].isnull()) & \n",
    "        (df2['REPAYMENT_FREQUENCY']=='AtTheFinalDayOfThePeriodOfContract'),'DPD'] = 0\n",
    "\n",
    "# Notice that for the rest records with NULL DPD, REPAYMENY_FREQ is every month.\n",
    "# So, if the Overdue_Amount is greater than 3 times of the installment, it has DPD > 90\n",
    "df2.loc[(df2['DPD'].isnull()) & \n",
    "        ((df2['OVER_DUE_AMT']/df2['INSTALLMENT_AMT'])>=3),'DPD'] = 91\n",
    "\n",
    "# Else, it has lesser than 90 days DPD. Fill the rest NULL DPD with 0.\n",
    "df2['DPD'].fillna(0, inplace=True)"
   ]
  },
  {
   "cell_type": "code",
   "execution_count": 28,
   "metadata": {
    "colab": {
     "base_uri": "https://localhost:8080/"
    },
    "id": "wv5Muqh7nbym",
    "outputId": "4b8991de-98de-4852-b291-133f69ed3d71"
   },
   "outputs": [
    {
     "data": {
      "text/plain": [
       "SUBJECT_ID                   0\n",
       "ACCOUNT_ID                   0\n",
       "DATE_REPORTED                0\n",
       "CURR_CODE                    0\n",
       "REPAYMENT_FREQUENCY          0\n",
       "NUMBER_OF_INSTALLMENTS       0\n",
       "SANCTION_AMT                 0\n",
       "TOT_OUTSTD_BAL               0\n",
       "OVER_DUE_AMT                 0\n",
       "INSTALLMENT_AMT              0\n",
       "DATE_LATEST_PAYMENT       1345\n",
       "DATE_ACC_OPEN                0\n",
       "DATE_ACC_CLOSE            3046\n",
       "LOAN_TYPE                    0\n",
       "LOAN_STATUS                  0\n",
       "DPD                          0\n",
       "DATE_EXP_LOAN_CLOSURE        0\n",
       "dtype: int64"
      ]
     },
     "execution_count": 28,
     "metadata": {},
     "output_type": "execute_result"
    }
   ],
   "source": [
    "# Thus cleaned all the NULL values on necessary fields.\n",
    "\n",
    "df2.isnull().sum()"
   ]
  },
  {
   "cell_type": "code",
   "execution_count": 29,
   "metadata": {
    "colab": {
     "base_uri": "https://localhost:8080/",
     "height": 270
    },
    "id": "q7RSfGP7T1iI",
    "outputId": "69b9074b-9794-40e4-9c10-940b9969251a"
   },
   "outputs": [
    {
     "data": {
      "text/html": [
       "<div>\n",
       "<style scoped>\n",
       "    .dataframe tbody tr th:only-of-type {\n",
       "        vertical-align: middle;\n",
       "    }\n",
       "\n",
       "    .dataframe tbody tr th {\n",
       "        vertical-align: top;\n",
       "    }\n",
       "\n",
       "    .dataframe thead th {\n",
       "        text-align: right;\n",
       "    }\n",
       "</style>\n",
       "<table border=\"1\" class=\"dataframe\">\n",
       "  <thead>\n",
       "    <tr style=\"text-align: right;\">\n",
       "      <th></th>\n",
       "      <th>SUBJECT_ID</th>\n",
       "      <th>ACCOUNT_ID</th>\n",
       "      <th>DATE_REPORTED</th>\n",
       "      <th>CURR_CODE</th>\n",
       "      <th>REPAYMENT_FREQUENCY</th>\n",
       "      <th>NUMBER_OF_INSTALLMENTS</th>\n",
       "      <th>SANCTION_AMT</th>\n",
       "      <th>TOT_OUTSTD_BAL</th>\n",
       "      <th>OVER_DUE_AMT</th>\n",
       "      <th>INSTALLMENT_AMT</th>\n",
       "      <th>DATE_LATEST_PAYMENT</th>\n",
       "      <th>DATE_ACC_OPEN</th>\n",
       "      <th>DATE_ACC_CLOSE</th>\n",
       "      <th>LOAN_TYPE</th>\n",
       "      <th>LOAN_STATUS</th>\n",
       "      <th>DPD</th>\n",
       "      <th>DATE_EXP_LOAN_CLOSURE</th>\n",
       "      <th>LOAN_TENURE</th>\n",
       "    </tr>\n",
       "  </thead>\n",
       "  <tbody>\n",
       "    <tr>\n",
       "      <th>0</th>\n",
       "      <td>110113010000498773</td>\n",
       "      <td>2201160002396407</td>\n",
       "      <td>2018-01-02</td>\n",
       "      <td>TZS</td>\n",
       "      <td>MonthlyInstalments30Days</td>\n",
       "      <td>6.0</td>\n",
       "      <td>400000.0</td>\n",
       "      <td>0.00</td>\n",
       "      <td>205609.4</td>\n",
       "      <td>0.00</td>\n",
       "      <td>2016-11-29</td>\n",
       "      <td>2016-06-29</td>\n",
       "      <td>2016-12-29</td>\n",
       "      <td>OtherInstalmentOperation</td>\n",
       "      <td>Existing</td>\n",
       "      <td>399.0</td>\n",
       "      <td>2016-12-29</td>\n",
       "      <td>183.0</td>\n",
       "    </tr>\n",
       "    <tr>\n",
       "      <th>1</th>\n",
       "      <td>110115010001596750</td>\n",
       "      <td>2201170002990772</td>\n",
       "      <td>2018-01-08</td>\n",
       "      <td>TZS</td>\n",
       "      <td>MonthlyInstalments30Days</td>\n",
       "      <td>61.0</td>\n",
       "      <td>3500000.0</td>\n",
       "      <td>3272849.49</td>\n",
       "      <td>0.0</td>\n",
       "      <td>100243.11</td>\n",
       "      <td>2017-12-29</td>\n",
       "      <td>2017-06-29</td>\n",
       "      <td>2022-07-05</td>\n",
       "      <td>ConsumerLoan</td>\n",
       "      <td>Existing</td>\n",
       "      <td>0.0</td>\n",
       "      <td>2022-07-05</td>\n",
       "      <td>1832.0</td>\n",
       "    </tr>\n",
       "    <tr>\n",
       "      <th>2</th>\n",
       "      <td>110114010000832340</td>\n",
       "      <td>2201140001177207</td>\n",
       "      <td>2018-01-02</td>\n",
       "      <td>TZS</td>\n",
       "      <td>MonthlyInstalments30Days</td>\n",
       "      <td>57.0</td>\n",
       "      <td>4200000.0</td>\n",
       "      <td>870462.93</td>\n",
       "      <td>0.0</td>\n",
       "      <td>106652.40</td>\n",
       "      <td>2017-12-28</td>\n",
       "      <td>2013-12-27</td>\n",
       "      <td>NaT</td>\n",
       "      <td>ConsumerLoan</td>\n",
       "      <td>Existing</td>\n",
       "      <td>0.0</td>\n",
       "      <td>2018-09-27</td>\n",
       "      <td>1735.0</td>\n",
       "    </tr>\n",
       "    <tr>\n",
       "      <th>3</th>\n",
       "      <td>110114010000740514</td>\n",
       "      <td>2201160002371670</td>\n",
       "      <td>2018-01-02</td>\n",
       "      <td>TZS</td>\n",
       "      <td>MonthlyInstalments30Days</td>\n",
       "      <td>24.0</td>\n",
       "      <td>60000000.0</td>\n",
       "      <td>15740676.93</td>\n",
       "      <td>0.0</td>\n",
       "      <td>2987342.81</td>\n",
       "      <td>2017-12-18</td>\n",
       "      <td>2016-05-11</td>\n",
       "      <td>NaT</td>\n",
       "      <td>BusinessLoan</td>\n",
       "      <td>Existing</td>\n",
       "      <td>18.0</td>\n",
       "      <td>2018-05-11</td>\n",
       "      <td>730.0</td>\n",
       "    </tr>\n",
       "    <tr>\n",
       "      <th>4</th>\n",
       "      <td>110114010000811717</td>\n",
       "      <td>2201140001161294</td>\n",
       "      <td>2018-01-08</td>\n",
       "      <td>TZS</td>\n",
       "      <td>MonthlyInstalments30Days</td>\n",
       "      <td>69.0</td>\n",
       "      <td>3400000.0</td>\n",
       "      <td>828981.51</td>\n",
       "      <td>0.0</td>\n",
       "      <td>99164.00</td>\n",
       "      <td>2017-12-29</td>\n",
       "      <td>2013-02-20</td>\n",
       "      <td>2018-11-16</td>\n",
       "      <td>ConsumerLoan</td>\n",
       "      <td>Existing</td>\n",
       "      <td>0.0</td>\n",
       "      <td>2018-11-16</td>\n",
       "      <td>2095.0</td>\n",
       "    </tr>\n",
       "  </tbody>\n",
       "</table>\n",
       "</div>"
      ],
      "text/plain": [
       "           SUBJECT_ID        ACCOUNT_ID DATE_REPORTED CURR_CODE  \\\n",
       "0  110113010000498773  2201160002396407    2018-01-02       TZS   \n",
       "1  110115010001596750  2201170002990772    2018-01-08       TZS   \n",
       "2  110114010000832340  2201140001177207    2018-01-02       TZS   \n",
       "3  110114010000740514  2201160002371670    2018-01-02       TZS   \n",
       "4  110114010000811717  2201140001161294    2018-01-08       TZS   \n",
       "\n",
       "        REPAYMENT_FREQUENCY  NUMBER_OF_INSTALLMENTS  SANCTION_AMT  \\\n",
       "0  MonthlyInstalments30Days                     6.0      400000.0   \n",
       "1  MonthlyInstalments30Days                    61.0     3500000.0   \n",
       "2  MonthlyInstalments30Days                    57.0     4200000.0   \n",
       "3  MonthlyInstalments30Days                    24.0    60000000.0   \n",
       "4  MonthlyInstalments30Days                    69.0     3400000.0   \n",
       "\n",
       "   TOT_OUTSTD_BAL  OVER_DUE_AMT  INSTALLMENT_AMT DATE_LATEST_PAYMENT  \\\n",
       "0            0.00      205609.4             0.00          2016-11-29   \n",
       "1      3272849.49           0.0        100243.11          2017-12-29   \n",
       "2       870462.93           0.0        106652.40          2017-12-28   \n",
       "3     15740676.93           0.0       2987342.81          2017-12-18   \n",
       "4       828981.51           0.0         99164.00          2017-12-29   \n",
       "\n",
       "  DATE_ACC_OPEN DATE_ACC_CLOSE                 LOAN_TYPE LOAN_STATUS    DPD  \\\n",
       "0    2016-06-29     2016-12-29  OtherInstalmentOperation    Existing  399.0   \n",
       "1    2017-06-29     2022-07-05              ConsumerLoan    Existing    0.0   \n",
       "2    2013-12-27            NaT              ConsumerLoan    Existing    0.0   \n",
       "3    2016-05-11            NaT              BusinessLoan    Existing   18.0   \n",
       "4    2013-02-20     2018-11-16              ConsumerLoan    Existing    0.0   \n",
       "\n",
       "  DATE_EXP_LOAN_CLOSURE  LOAN_TENURE  \n",
       "0            2016-12-29        183.0  \n",
       "1            2022-07-05       1832.0  \n",
       "2            2018-09-27       1735.0  \n",
       "3            2018-05-11        730.0  \n",
       "4            2018-11-16       2095.0  "
      ]
     },
     "execution_count": 29,
     "metadata": {},
     "output_type": "execute_result"
    }
   ],
   "source": [
    "# Adding a new feature 'LOAN_TENURE', which originally had all NULL values in the dataset.\n",
    "\n",
    "df2['LOAN_TENURE'] = (df2['DATE_EXP_LOAN_CLOSURE'] - df2['DATE_ACC_OPEN']) / np.timedelta64(1, 'D')\n",
    "df2.head()"
   ]
  },
  {
   "cell_type": "code",
   "execution_count": 30,
   "metadata": {
    "colab": {
     "base_uri": "https://localhost:8080/",
     "height": 270
    },
    "id": "_s8JHr6BT1ct",
    "outputId": "2742230c-de1c-436c-852b-36ae439e3187"
   },
   "outputs": [
    {
     "data": {
      "text/html": [
       "<div>\n",
       "<style scoped>\n",
       "    .dataframe tbody tr th:only-of-type {\n",
       "        vertical-align: middle;\n",
       "    }\n",
       "\n",
       "    .dataframe tbody tr th {\n",
       "        vertical-align: top;\n",
       "    }\n",
       "\n",
       "    .dataframe thead th {\n",
       "        text-align: right;\n",
       "    }\n",
       "</style>\n",
       "<table border=\"1\" class=\"dataframe\">\n",
       "  <thead>\n",
       "    <tr style=\"text-align: right;\">\n",
       "      <th></th>\n",
       "      <th>SUBJECT_ID</th>\n",
       "      <th>ACCOUNT_ID</th>\n",
       "      <th>CURR_CODE</th>\n",
       "      <th>REPAYMENT_FREQUENCY</th>\n",
       "      <th>NUMBER_OF_INSTALLMENTS</th>\n",
       "      <th>SANCTION_AMT</th>\n",
       "      <th>TOT_OUTSTD_BAL</th>\n",
       "      <th>OVER_DUE_AMT</th>\n",
       "      <th>INSTALLMENT_AMT</th>\n",
       "      <th>LOAN_TYPE</th>\n",
       "      <th>LOAN_STATUS</th>\n",
       "      <th>LOAN_TENURE</th>\n",
       "      <th>DPD</th>\n",
       "    </tr>\n",
       "  </thead>\n",
       "  <tbody>\n",
       "    <tr>\n",
       "      <th>0</th>\n",
       "      <td>110113010000498773</td>\n",
       "      <td>2201160002396407</td>\n",
       "      <td>TZS</td>\n",
       "      <td>MonthlyInstalments30Days</td>\n",
       "      <td>6.0</td>\n",
       "      <td>400000.0</td>\n",
       "      <td>0.00</td>\n",
       "      <td>205609.4</td>\n",
       "      <td>0.00</td>\n",
       "      <td>OtherInstalmentOperation</td>\n",
       "      <td>Existing</td>\n",
       "      <td>183.0</td>\n",
       "      <td>399.0</td>\n",
       "    </tr>\n",
       "    <tr>\n",
       "      <th>1</th>\n",
       "      <td>110115010001596750</td>\n",
       "      <td>2201170002990772</td>\n",
       "      <td>TZS</td>\n",
       "      <td>MonthlyInstalments30Days</td>\n",
       "      <td>61.0</td>\n",
       "      <td>3500000.0</td>\n",
       "      <td>3272849.49</td>\n",
       "      <td>0.0</td>\n",
       "      <td>100243.11</td>\n",
       "      <td>ConsumerLoan</td>\n",
       "      <td>Existing</td>\n",
       "      <td>1832.0</td>\n",
       "      <td>0.0</td>\n",
       "    </tr>\n",
       "    <tr>\n",
       "      <th>2</th>\n",
       "      <td>110114010000832340</td>\n",
       "      <td>2201140001177207</td>\n",
       "      <td>TZS</td>\n",
       "      <td>MonthlyInstalments30Days</td>\n",
       "      <td>57.0</td>\n",
       "      <td>4200000.0</td>\n",
       "      <td>870462.93</td>\n",
       "      <td>0.0</td>\n",
       "      <td>106652.40</td>\n",
       "      <td>ConsumerLoan</td>\n",
       "      <td>Existing</td>\n",
       "      <td>1735.0</td>\n",
       "      <td>0.0</td>\n",
       "    </tr>\n",
       "    <tr>\n",
       "      <th>3</th>\n",
       "      <td>110114010000740514</td>\n",
       "      <td>2201160002371670</td>\n",
       "      <td>TZS</td>\n",
       "      <td>MonthlyInstalments30Days</td>\n",
       "      <td>24.0</td>\n",
       "      <td>60000000.0</td>\n",
       "      <td>15740676.93</td>\n",
       "      <td>0.0</td>\n",
       "      <td>2987342.81</td>\n",
       "      <td>BusinessLoan</td>\n",
       "      <td>Existing</td>\n",
       "      <td>730.0</td>\n",
       "      <td>18.0</td>\n",
       "    </tr>\n",
       "    <tr>\n",
       "      <th>4</th>\n",
       "      <td>110114010000811717</td>\n",
       "      <td>2201140001161294</td>\n",
       "      <td>TZS</td>\n",
       "      <td>MonthlyInstalments30Days</td>\n",
       "      <td>69.0</td>\n",
       "      <td>3400000.0</td>\n",
       "      <td>828981.51</td>\n",
       "      <td>0.0</td>\n",
       "      <td>99164.00</td>\n",
       "      <td>ConsumerLoan</td>\n",
       "      <td>Existing</td>\n",
       "      <td>2095.0</td>\n",
       "      <td>0.0</td>\n",
       "    </tr>\n",
       "  </tbody>\n",
       "</table>\n",
       "</div>"
      ],
      "text/plain": [
       "           SUBJECT_ID        ACCOUNT_ID CURR_CODE       REPAYMENT_FREQUENCY  \\\n",
       "0  110113010000498773  2201160002396407       TZS  MonthlyInstalments30Days   \n",
       "1  110115010001596750  2201170002990772       TZS  MonthlyInstalments30Days   \n",
       "2  110114010000832340  2201140001177207       TZS  MonthlyInstalments30Days   \n",
       "3  110114010000740514  2201160002371670       TZS  MonthlyInstalments30Days   \n",
       "4  110114010000811717  2201140001161294       TZS  MonthlyInstalments30Days   \n",
       "\n",
       "   NUMBER_OF_INSTALLMENTS  SANCTION_AMT  TOT_OUTSTD_BAL  OVER_DUE_AMT  \\\n",
       "0                     6.0      400000.0            0.00      205609.4   \n",
       "1                    61.0     3500000.0      3272849.49           0.0   \n",
       "2                    57.0     4200000.0       870462.93           0.0   \n",
       "3                    24.0    60000000.0     15740676.93           0.0   \n",
       "4                    69.0     3400000.0       828981.51           0.0   \n",
       "\n",
       "   INSTALLMENT_AMT                 LOAN_TYPE LOAN_STATUS  LOAN_TENURE    DPD  \n",
       "0             0.00  OtherInstalmentOperation    Existing        183.0  399.0  \n",
       "1        100243.11              ConsumerLoan    Existing       1832.0    0.0  \n",
       "2        106652.40              ConsumerLoan    Existing       1735.0    0.0  \n",
       "3       2987342.81              BusinessLoan    Existing        730.0   18.0  \n",
       "4         99164.00              ConsumerLoan    Existing       2095.0    0.0  "
      ]
     },
     "execution_count": 30,
     "metadata": {},
     "output_type": "execute_result"
    }
   ],
   "source": [
    "# Select only the relevant attributes for further steps\n",
    "\n",
    "features = ['SUBJECT_ID', 'ACCOUNT_ID', 'CURR_CODE', 'REPAYMENT_FREQUENCY', 'NUMBER_OF_INSTALLMENTS', 'SANCTION_AMT', \n",
    "            'TOT_OUTSTD_BAL', 'OVER_DUE_AMT', 'INSTALLMENT_AMT', 'LOAN_TYPE', 'LOAN_STATUS', 'LOAN_TENURE', 'DPD']\n",
    "df3 = df2[features]\n",
    "df3.head()"
   ]
  },
  {
   "cell_type": "code",
   "execution_count": 31,
   "metadata": {
    "colab": {
     "base_uri": "https://localhost:8080/"
    },
    "id": "6X9ip_AUT1aG",
    "outputId": "b246d768-e228-421f-ddd9-db47bec42472"
   },
   "outputs": [
    {
     "data": {
      "text/plain": [
       "(5960, 13)"
      ]
     },
     "execution_count": 31,
     "metadata": {},
     "output_type": "execute_result"
    }
   ],
   "source": [
    "df3.shape"
   ]
  },
  {
   "cell_type": "markdown",
   "metadata": {
    "id": "qELRGb15T1XT"
   },
   "source": [
    "# Data Analysis & Visualisation"
   ]
  },
  {
   "cell_type": "code",
   "execution_count": 32,
   "metadata": {
    "colab": {
     "base_uri": "https://localhost:8080/"
    },
    "id": "kNqHZL0uDmRb",
    "outputId": "0b7e7278-995c-4d09-ba5f-cc76f3887664"
   },
   "outputs": [
    {
     "data": {
      "text/plain": [
       "5960"
      ]
     },
     "execution_count": 32,
     "metadata": {},
     "output_type": "execute_result"
    }
   ],
   "source": [
    "# Account_ID becomes the unique identifier for the dataframe.\n",
    "\n",
    "df3['ACCOUNT_ID'].nunique()"
   ]
  },
  {
   "cell_type": "code",
   "execution_count": 33,
   "metadata": {
    "colab": {
     "base_uri": "https://localhost:8080/"
    },
    "id": "NCKyWw-FDmUT",
    "outputId": "2699c007-f331-4635-f74a-51c82c19ddc1"
   },
   "outputs": [
    {
     "data": {
      "text/plain": [
       "5923"
      ]
     },
     "execution_count": 33,
     "metadata": {},
     "output_type": "execute_result"
    }
   ],
   "source": [
    "# Note that some Subject_IDs are repeated in the dataframe, meaning some Customers availed more than 1 loan.\n",
    "\n",
    "df3['SUBJECT_ID'].nunique()"
   ]
  },
  {
   "cell_type": "code",
   "execution_count": 34,
   "metadata": {
    "colab": {
     "base_uri": "https://localhost:8080/",
     "height": 513
    },
    "id": "znizu7SxzRja",
    "outputId": "2a34e14b-7a91-4173-a3e4-d04b45917a11"
   },
   "outputs": [
    {
     "name": "stderr",
     "output_type": "stream",
     "text": [
      "<ipython-input-34-fbf33db92f52>:6: SettingWithCopyWarning: \n",
      "A value is trying to be set on a copy of a slice from a DataFrame\n",
      "\n",
      "See the caveats in the documentation: https://pandas.pydata.org/pandas-docs/stable/user_guide/indexing.html#returning-a-view-versus-a-copy\n",
      "  df_multiple_loans.sort_values(by=['DPD', 'SUBJECT_ID'], ascending=False, inplace=True)\n"
     ]
    },
    {
     "data": {
      "text/html": [
       "<div>\n",
       "<style scoped>\n",
       "    .dataframe tbody tr th:only-of-type {\n",
       "        vertical-align: middle;\n",
       "    }\n",
       "\n",
       "    .dataframe tbody tr th {\n",
       "        vertical-align: top;\n",
       "    }\n",
       "\n",
       "    .dataframe thead th {\n",
       "        text-align: right;\n",
       "    }\n",
       "</style>\n",
       "<table border=\"1\" class=\"dataframe\">\n",
       "  <thead>\n",
       "    <tr style=\"text-align: right;\">\n",
       "      <th></th>\n",
       "      <th>SUBJECT_ID</th>\n",
       "      <th>ACCOUNT_ID</th>\n",
       "      <th>SANCTION_AMT</th>\n",
       "      <th>LOAN_TYPE</th>\n",
       "      <th>LOAN_STATUS</th>\n",
       "      <th>DPD</th>\n",
       "    </tr>\n",
       "  </thead>\n",
       "  <tbody>\n",
       "    <tr>\n",
       "      <th>588</th>\n",
       "      <td>110113010000508823</td>\n",
       "      <td>2201150001612310</td>\n",
       "      <td>14700000.0</td>\n",
       "      <td>ConsumerLoan</td>\n",
       "      <td>Existing</td>\n",
       "      <td>286.0</td>\n",
       "    </tr>\n",
       "    <tr>\n",
       "      <th>4451</th>\n",
       "      <td>110118010002814358</td>\n",
       "      <td>2201180003748597</td>\n",
       "      <td>35000000.0</td>\n",
       "      <td>BusinessLoan</td>\n",
       "      <td>Existing</td>\n",
       "      <td>0.0</td>\n",
       "    </tr>\n",
       "    <tr>\n",
       "      <th>5011</th>\n",
       "      <td>110118010002814358</td>\n",
       "      <td>2201180003748608</td>\n",
       "      <td>35000000.0</td>\n",
       "      <td>BusinessLoan</td>\n",
       "      <td>Existing</td>\n",
       "      <td>0.0</td>\n",
       "    </tr>\n",
       "    <tr>\n",
       "      <th>3537</th>\n",
       "      <td>110118010002810117</td>\n",
       "      <td>2201180003993041</td>\n",
       "      <td>8000000.0</td>\n",
       "      <td>BusinessLoan</td>\n",
       "      <td>Existing</td>\n",
       "      <td>0.0</td>\n",
       "    </tr>\n",
       "    <tr>\n",
       "      <th>4486</th>\n",
       "      <td>110118010002810117</td>\n",
       "      <td>2201180003719814</td>\n",
       "      <td>17000000.0</td>\n",
       "      <td>BusinessLoan</td>\n",
       "      <td>Existing</td>\n",
       "      <td>0.0</td>\n",
       "    </tr>\n",
       "    <tr>\n",
       "      <th>...</th>\n",
       "      <td>...</td>\n",
       "      <td>...</td>\n",
       "      <td>...</td>\n",
       "      <td>...</td>\n",
       "      <td>...</td>\n",
       "      <td>...</td>\n",
       "    </tr>\n",
       "    <tr>\n",
       "      <th>124</th>\n",
       "      <td>110113010000300324</td>\n",
       "      <td>2201180003234962</td>\n",
       "      <td>7889000.0</td>\n",
       "      <td>ConsumerLoan</td>\n",
       "      <td>Existing</td>\n",
       "      <td>0.0</td>\n",
       "    </tr>\n",
       "    <tr>\n",
       "      <th>5689</th>\n",
       "      <td>110113010000300324</td>\n",
       "      <td>2201180004039449</td>\n",
       "      <td>8820000.0</td>\n",
       "      <td>ConsumerLoan</td>\n",
       "      <td>Existing</td>\n",
       "      <td>0.0</td>\n",
       "    </tr>\n",
       "    <tr>\n",
       "      <th>2905</th>\n",
       "      <td>110113010000272956</td>\n",
       "      <td>2201180003748591</td>\n",
       "      <td>15000000.0</td>\n",
       "      <td>BusinessLoan</td>\n",
       "      <td>Existing</td>\n",
       "      <td>0.0</td>\n",
       "    </tr>\n",
       "    <tr>\n",
       "      <th>3227</th>\n",
       "      <td>110113010000272956</td>\n",
       "      <td>2201180003748599</td>\n",
       "      <td>15000000.0</td>\n",
       "      <td>BusinessLoan</td>\n",
       "      <td>Existing</td>\n",
       "      <td>0.0</td>\n",
       "    </tr>\n",
       "    <tr>\n",
       "      <th>3570</th>\n",
       "      <td>110113010000272956</td>\n",
       "      <td>2201180003869980</td>\n",
       "      <td>5000000.0</td>\n",
       "      <td>BusinessLoan</td>\n",
       "      <td>Existing</td>\n",
       "      <td>0.0</td>\n",
       "    </tr>\n",
       "  </tbody>\n",
       "</table>\n",
       "<p>73 rows × 6 columns</p>\n",
       "</div>"
      ],
      "text/plain": [
       "              SUBJECT_ID        ACCOUNT_ID  SANCTION_AMT     LOAN_TYPE  \\\n",
       "588   110113010000508823  2201150001612310    14700000.0  ConsumerLoan   \n",
       "4451  110118010002814358  2201180003748597    35000000.0  BusinessLoan   \n",
       "5011  110118010002814358  2201180003748608    35000000.0  BusinessLoan   \n",
       "3537  110118010002810117  2201180003993041     8000000.0  BusinessLoan   \n",
       "4486  110118010002810117  2201180003719814    17000000.0  BusinessLoan   \n",
       "...                  ...               ...           ...           ...   \n",
       "124   110113010000300324  2201180003234962     7889000.0  ConsumerLoan   \n",
       "5689  110113010000300324  2201180004039449     8820000.0  ConsumerLoan   \n",
       "2905  110113010000272956  2201180003748591    15000000.0  BusinessLoan   \n",
       "3227  110113010000272956  2201180003748599    15000000.0  BusinessLoan   \n",
       "3570  110113010000272956  2201180003869980     5000000.0  BusinessLoan   \n",
       "\n",
       "     LOAN_STATUS    DPD  \n",
       "588     Existing  286.0  \n",
       "4451    Existing    0.0  \n",
       "5011    Existing    0.0  \n",
       "3537    Existing    0.0  \n",
       "4486    Existing    0.0  \n",
       "...          ...    ...  \n",
       "124     Existing    0.0  \n",
       "5689    Existing    0.0  \n",
       "2905    Existing    0.0  \n",
       "3227    Existing    0.0  \n",
       "3570    Existing    0.0  \n",
       "\n",
       "[73 rows x 6 columns]"
      ]
     },
     "execution_count": 34,
     "metadata": {},
     "output_type": "execute_result"
    }
   ],
   "source": [
    "# Check the customers who availed multiple loans and their default\n",
    "\n",
    "df_multiple_loans = df3.groupby(['SUBJECT_ID'])['ACCOUNT_ID'].count().sort_values(ascending=False).reset_index()\n",
    "df_multiple_loans = df_multiple_loans[df_multiple_loans['ACCOUNT_ID'] > 1]\n",
    "df_multiple_loans = df3[df3['SUBJECT_ID'].isin(df_multiple_loans['SUBJECT_ID'])]\n",
    "df_multiple_loans.sort_values(by=['DPD', 'SUBJECT_ID'], ascending=False, inplace=True)\n",
    "df_multiple_loans[['SUBJECT_ID', 'ACCOUNT_ID', 'SANCTION_AMT', 'LOAN_TYPE', 'LOAN_STATUS', 'DPD']]"
   ]
  },
  {
   "cell_type": "code",
   "execution_count": 35,
   "metadata": {
    "colab": {
     "base_uri": "https://localhost:8080/"
    },
    "id": "_fsqf8DopS8j",
    "outputId": "fc0e235b-ed69-44ca-dd06-fb665b9a96a2"
   },
   "outputs": [
    {
     "data": {
      "text/plain": [
       "36"
      ]
     },
     "execution_count": 35,
     "metadata": {},
     "output_type": "execute_result"
    }
   ],
   "source": [
    "df_multiple_loans['SUBJECT_ID'].nunique()"
   ]
  },
  {
   "cell_type": "markdown",
   "metadata": {
    "id": "RtP42exTLRyt"
   },
   "source": [
    "## Understanding the Categorical variables"
   ]
  },
  {
   "cell_type": "code",
   "execution_count": 36,
   "metadata": {
    "id": "vEpFmSU2PFEK"
   },
   "outputs": [],
   "source": [
    "# Function to plot Value Counts for Categorical variables\n",
    "\n",
    "def cat_valcount_plot(df, fld):\n",
    "    plt.figure(figsize=(6, 4))\n",
    "    sns.barplot(df[fld].value_counts(), df[fld].value_counts().index)\n",
    "    plt.show()"
   ]
  },
  {
   "cell_type": "code",
   "execution_count": 37,
   "metadata": {
    "colab": {
     "base_uri": "https://localhost:8080/",
     "height": 341
    },
    "id": "54la4ZVKnV7y",
    "outputId": "6219e96f-2547-4c73-f3d1-af130c88c367"
   },
   "outputs": [
    {
     "data": {
      "image/png": "[encoded data removed]",
      "text/plain": [
       "<Figure size 432x288 with 1 Axes>"
      ]
     },
     "metadata": {
      "needs_background": "light"
     },
     "output_type": "display_data"
    }
   ],
   "source": [
    "# Check the distribution of multiple Repayment_Frequency\n",
    "\n",
    "cat_valcount_plot(df3, 'REPAYMENT_FREQUENCY')"
   ]
  },
  {
   "cell_type": "code",
   "execution_count": 38,
   "metadata": {
    "colab": {
     "base_uri": "https://localhost:8080/",
     "height": 341
    },
    "id": "CYE9tbeOnV4_",
    "outputId": "35a9ae5c-611e-4830-d3f6-ade480a73923"
   },
   "outputs": [
    {
     "data": {
      "image/png": "[encoded data removed]",
      "text/plain": [
       "<Figure size 432x288 with 1 Axes>"
      ]
     },
     "metadata": {
      "needs_background": "light"
     },
     "output_type": "display_data"
    }
   ],
   "source": [
    "# Check the distribution of different Loan_Type\n",
    "\n",
    "cat_valcount_plot(df3, 'LOAN_TYPE')"
   ]
  },
  {
   "cell_type": "code",
   "execution_count": 39,
   "metadata": {
    "colab": {
     "base_uri": "https://localhost:8080/",
     "height": 341
    },
    "id": "6MTSwgG4nV2D",
    "outputId": "8eb7f148-d2ba-438c-feac-fb1d1d7a8e39"
   },
   "outputs": [
    {
     "data": {
      "image/png": "[encoded data removed]",
      "text/plain": [
       "<Figure size 432x288 with 1 Axes>"
      ]
     },
     "metadata": {
      "needs_background": "light"
     },
     "output_type": "display_data"
    }
   ],
   "source": [
    "# Check the distribution of different Loan_Status\n",
    "\n",
    "cat_valcount_plot(df3, 'LOAN_STATUS')"
   ]
  },
  {
   "cell_type": "code",
   "execution_count": 40,
   "metadata": {
    "colab": {
     "base_uri": "https://localhost:8080/",
     "height": 341
    },
    "id": "kcLKvRn4L5U-",
    "outputId": "409d7550-0230-4b94-88c5-dd580f4e5fa4"
   },
   "outputs": [
    {
     "data": {
      "image/png": "[encoded data removed]",
      "text/plain": [
       "<Figure size 432x288 with 1 Axes>"
      ]
     },
     "metadata": {
      "needs_background": "light"
     },
     "output_type": "display_data"
    }
   ],
   "source": [
    "# Check the distribution of different Currencies\n",
    "\n",
    "cat_valcount_plot(df3, 'CURR_CODE')"
   ]
  },
  {
   "cell_type": "code",
   "execution_count": 41,
   "metadata": {
    "colab": {
     "base_uri": "https://localhost:8080/"
    },
    "id": "Wn-IXngcMsmT",
    "outputId": "aed00d7f-f5ab-4355-f78c-d7aafc3ff10f"
   },
   "outputs": [
    {
     "data": {
      "text/plain": [
       "TZS    5955\n",
       "USD       5\n",
       "Name: CURR_CODE, dtype: int64"
      ]
     },
     "execution_count": 41,
     "metadata": {},
     "output_type": "execute_result"
    }
   ],
   "source": [
    "df3['CURR_CODE'].value_counts()"
   ]
  },
  {
   "cell_type": "code",
   "execution_count": 42,
   "metadata": {
    "colab": {
     "base_uri": "https://localhost:8080/",
     "height": 206
    },
    "id": "pBEhxCMsnWBe",
    "outputId": "32f4461e-57c2-4ab8-ea06-bd2693e94253"
   },
   "outputs": [
    {
     "data": {
      "text/html": [
       "<div>\n",
       "<style scoped>\n",
       "    .dataframe tbody tr th:only-of-type {\n",
       "        vertical-align: middle;\n",
       "    }\n",
       "\n",
       "    .dataframe tbody tr th {\n",
       "        vertical-align: top;\n",
       "    }\n",
       "\n",
       "    .dataframe thead th {\n",
       "        text-align: right;\n",
       "    }\n",
       "</style>\n",
       "<table border=\"1\" class=\"dataframe\">\n",
       "  <thead>\n",
       "    <tr style=\"text-align: right;\">\n",
       "      <th></th>\n",
       "      <th>SANCTION_AMT</th>\n",
       "      <th>TOT_OUTSTD_BAL</th>\n",
       "      <th>OVER_DUE_AMT</th>\n",
       "      <th>INSTALLMENT_AMT</th>\n",
       "    </tr>\n",
       "  </thead>\n",
       "  <tbody>\n",
       "    <tr>\n",
       "      <th>599</th>\n",
       "      <td>44500.0</td>\n",
       "      <td>37510.66</td>\n",
       "      <td>0.00</td>\n",
       "      <td>967.90</td>\n",
       "    </tr>\n",
       "    <tr>\n",
       "      <th>649</th>\n",
       "      <td>100000.0</td>\n",
       "      <td>0.00</td>\n",
       "      <td>0.00</td>\n",
       "      <td>775.00</td>\n",
       "    </tr>\n",
       "    <tr>\n",
       "      <th>902</th>\n",
       "      <td>60000.0</td>\n",
       "      <td>1484.13</td>\n",
       "      <td>1484.13</td>\n",
       "      <td>1484.13</td>\n",
       "    </tr>\n",
       "    <tr>\n",
       "      <th>4010</th>\n",
       "      <td>40000.0</td>\n",
       "      <td>15815.56</td>\n",
       "      <td>0.00</td>\n",
       "      <td>1309.55</td>\n",
       "    </tr>\n",
       "    <tr>\n",
       "      <th>4338</th>\n",
       "      <td>35000.0</td>\n",
       "      <td>33958.13</td>\n",
       "      <td>0.00</td>\n",
       "      <td>657.26</td>\n",
       "    </tr>\n",
       "  </tbody>\n",
       "</table>\n",
       "</div>"
      ],
      "text/plain": [
       "      SANCTION_AMT  TOT_OUTSTD_BAL  OVER_DUE_AMT  INSTALLMENT_AMT\n",
       "599        44500.0        37510.66          0.00           967.90\n",
       "649       100000.0            0.00          0.00           775.00\n",
       "902        60000.0         1484.13       1484.13          1484.13\n",
       "4010       40000.0        15815.56          0.00          1309.55\n",
       "4338       35000.0        33958.13          0.00           657.26"
      ]
     },
     "execution_count": 42,
     "metadata": {},
     "output_type": "execute_result"
    }
   ],
   "source": [
    "# Check the records which have currency in USD\n",
    "\n",
    "df3[df3['CURR_CODE']=='USD'][['SANCTION_AMT', 'TOT_OUTSTD_BAL', \n",
    "                              'OVER_DUE_AMT', 'INSTALLMENT_AMT']]"
   ]
  },
  {
   "cell_type": "code",
   "execution_count": 43,
   "metadata": {
    "colab": {
     "base_uri": "https://localhost:8080/"
    },
    "id": "wCPvkNY3L5RN",
    "outputId": "ac9846a1-6c39-4498-d878-5b473d2c7b70"
   },
   "outputs": [
    {
     "name": "stderr",
     "output_type": "stream",
     "text": [
      "/Users/dileepsathyan/opt/anaconda3/lib/python3.8/site-packages/pandas/core/indexing.py:966: SettingWithCopyWarning: \n",
      "A value is trying to be set on a copy of a slice from a DataFrame.\n",
      "Try using .loc[row_indexer,col_indexer] = value instead\n",
      "\n",
      "See the caveats in the documentation: https://pandas.pydata.org/pandas-docs/stable/user_guide/indexing.html#returning-a-view-versus-a-copy\n",
      "  self.obj[item] = s\n"
     ]
    }
   ],
   "source": [
    "# Since there are only 5 Loans in USD, let's convert all USD Loans into TZS\n",
    "\n",
    "# Exchange rate from USD TO TZS (today's rate is 2332)\n",
    "usd_tzs_conv_rate = 2335\n",
    "\n",
    "df3.loc[df3['CURR_CODE']=='USD', ['SANCTION_AMT', 'TOT_OUTSTD_BAL', \n",
    "                                  'OVER_DUE_AMT', 'INSTALLMENT_AMT']] *= usd_tzs_conv_rate"
   ]
  },
  {
   "cell_type": "code",
   "execution_count": 44,
   "metadata": {
    "colab": {
     "base_uri": "https://localhost:8080/",
     "height": 206
    },
    "id": "OaAc_xCgnV-u",
    "outputId": "6b48c668-34cb-40db-acb4-f6d95b79b7df"
   },
   "outputs": [
    {
     "data": {
      "text/html": [
       "<div>\n",
       "<style scoped>\n",
       "    .dataframe tbody tr th:only-of-type {\n",
       "        vertical-align: middle;\n",
       "    }\n",
       "\n",
       "    .dataframe tbody tr th {\n",
       "        vertical-align: top;\n",
       "    }\n",
       "\n",
       "    .dataframe thead th {\n",
       "        text-align: right;\n",
       "    }\n",
       "</style>\n",
       "<table border=\"1\" class=\"dataframe\">\n",
       "  <thead>\n",
       "    <tr style=\"text-align: right;\">\n",
       "      <th></th>\n",
       "      <th>SANCTION_AMT</th>\n",
       "      <th>TOT_OUTSTD_BAL</th>\n",
       "      <th>OVER_DUE_AMT</th>\n",
       "      <th>INSTALLMENT_AMT</th>\n",
       "    </tr>\n",
       "  </thead>\n",
       "  <tbody>\n",
       "    <tr>\n",
       "      <th>599</th>\n",
       "      <td>103907500.0</td>\n",
       "      <td>87587391.10</td>\n",
       "      <td>0.00</td>\n",
       "      <td>2260046.50</td>\n",
       "    </tr>\n",
       "    <tr>\n",
       "      <th>649</th>\n",
       "      <td>233500000.0</td>\n",
       "      <td>0.00</td>\n",
       "      <td>0.00</td>\n",
       "      <td>1809625.00</td>\n",
       "    </tr>\n",
       "    <tr>\n",
       "      <th>902</th>\n",
       "      <td>140100000.0</td>\n",
       "      <td>3465443.55</td>\n",
       "      <td>3465443.55</td>\n",
       "      <td>3465443.55</td>\n",
       "    </tr>\n",
       "    <tr>\n",
       "      <th>4010</th>\n",
       "      <td>93400000.0</td>\n",
       "      <td>36929332.60</td>\n",
       "      <td>0.00</td>\n",
       "      <td>3057799.25</td>\n",
       "    </tr>\n",
       "    <tr>\n",
       "      <th>4338</th>\n",
       "      <td>81725000.0</td>\n",
       "      <td>79292233.55</td>\n",
       "      <td>0.00</td>\n",
       "      <td>1534702.10</td>\n",
       "    </tr>\n",
       "  </tbody>\n",
       "</table>\n",
       "</div>"
      ],
      "text/plain": [
       "      SANCTION_AMT  TOT_OUTSTD_BAL  OVER_DUE_AMT  INSTALLMENT_AMT\n",
       "599    103907500.0     87587391.10          0.00       2260046.50\n",
       "649    233500000.0            0.00          0.00       1809625.00\n",
       "902    140100000.0      3465443.55    3465443.55       3465443.55\n",
       "4010    93400000.0     36929332.60          0.00       3057799.25\n",
       "4338    81725000.0     79292233.55          0.00       1534702.10"
      ]
     },
     "execution_count": 44,
     "metadata": {},
     "output_type": "execute_result"
    }
   ],
   "source": [
    "# Below USD values are now converted to TZS amounts\n",
    "df3[df3['CURR_CODE']=='USD'][['SANCTION_AMT', 'TOT_OUTSTD_BAL', \n",
    "                              'OVER_DUE_AMT', 'INSTALLMENT_AMT']]"
   ]
  },
  {
   "cell_type": "code",
   "execution_count": 45,
   "metadata": {
    "id": "pG6MxaDPN_2B"
   },
   "outputs": [],
   "source": [
    "# Correcting the USD Currency code to TZS for the converted records\n",
    "df3['CURR_CODE'].replace(['USD','TZS'], inplace=True)"
   ]
  },
  {
   "cell_type": "markdown",
   "metadata": {
    "id": "9xVTYNzZi-VX"
   },
   "source": [
    "# Visualise & Normalise the Numerical Variables"
   ]
  },
  {
   "cell_type": "code",
   "execution_count": 46,
   "metadata": {
    "colab": {
     "base_uri": "https://localhost:8080/",
     "height": 303
    },
    "id": "uwkhaqPhnVuA",
    "outputId": "042e3b14-6275-4c4f-8258-3637ceac94d7"
   },
   "outputs": [
    {
     "ename": "AttributeError",
     "evalue": "module 'seaborn' has no attribute 'histplot'",
     "output_type": "error",
     "traceback": [
      "\u001b[0;31m---------------------------------------------------------------------------\u001b[0m",
      "\u001b[0;31mAttributeError\u001b[0m                            Traceback (most recent call last)",
      "\u001b[0;32m<ipython-input-46-eb071b0c5617>\u001b[0m in \u001b[0;36m<module>\u001b[0;34m\u001b[0m\n\u001b[0;32m----> 1\u001b[0;31m \u001b[0msns\u001b[0m\u001b[0;34m.\u001b[0m\u001b[0mhistplot\u001b[0m\u001b[0;34m(\u001b[0m\u001b[0mdf3\u001b[0m\u001b[0;34m[\u001b[0m\u001b[0;34m'SANCTION_AMT'\u001b[0m\u001b[0;34m]\u001b[0m\u001b[0;34m)\u001b[0m\u001b[0;34m\u001b[0m\u001b[0;34m\u001b[0m\u001b[0m\n\u001b[0m",
      "\u001b[0;31mAttributeError\u001b[0m: module 'seaborn' has no attribute 'histplot'"
     ]
    }
   ],
   "source": [
    "sns.histplot(df3['SANCTION_AMT'])"
   ]
  },
  {
   "cell_type": "code",
   "execution_count": 47,
   "metadata": {
    "colab": {
     "base_uri": "https://localhost:8080/",
     "height": 410
    },
    "id": "72p1zY8qnVrX",
    "outputId": "9adfcd05-c2b3-43cb-d046-e954374546d6"
   },
   "outputs": [
    {
     "name": "stderr",
     "output_type": "stream",
     "text": [
      "<ipython-input-47-afb67bcc594c>:3: SettingWithCopyWarning: \n",
      "A value is trying to be set on a copy of a slice from a DataFrame.\n",
      "Try using .loc[row_indexer,col_indexer] = value instead\n",
      "\n",
      "See the caveats in the documentation: https://pandas.pydata.org/pandas-docs/stable/user_guide/indexing.html#returning-a-view-versus-a-copy\n",
      "  df3['SANCTION_AMT_LOG'] = np.log(df3['SANCTION_AMT'])\n"
     ]
    },
    {
     "ename": "AttributeError",
     "evalue": "module 'seaborn' has no attribute 'histplot'",
     "output_type": "error",
     "traceback": [
      "\u001b[0;31m---------------------------------------------------------------------------\u001b[0m",
      "\u001b[0;31mAttributeError\u001b[0m                            Traceback (most recent call last)",
      "\u001b[0;32m<ipython-input-47-afb67bcc594c>\u001b[0m in \u001b[0;36m<module>\u001b[0;34m\u001b[0m\n\u001b[1;32m      2\u001b[0m \u001b[0;34m\u001b[0m\u001b[0m\n\u001b[1;32m      3\u001b[0m \u001b[0mdf3\u001b[0m\u001b[0;34m[\u001b[0m\u001b[0;34m'SANCTION_AMT_LOG'\u001b[0m\u001b[0;34m]\u001b[0m \u001b[0;34m=\u001b[0m \u001b[0mnp\u001b[0m\u001b[0;34m.\u001b[0m\u001b[0mlog\u001b[0m\u001b[0;34m(\u001b[0m\u001b[0mdf3\u001b[0m\u001b[0;34m[\u001b[0m\u001b[0;34m'SANCTION_AMT'\u001b[0m\u001b[0;34m]\u001b[0m\u001b[0;34m)\u001b[0m\u001b[0;34m\u001b[0m\u001b[0;34m\u001b[0m\u001b[0m\n\u001b[0;32m----> 4\u001b[0;31m \u001b[0msns\u001b[0m\u001b[0;34m.\u001b[0m\u001b[0mhistplot\u001b[0m\u001b[0;34m(\u001b[0m\u001b[0mdf3\u001b[0m\u001b[0;34m[\u001b[0m\u001b[0;34m'SANCTION_AMT_LOG'\u001b[0m\u001b[0;34m]\u001b[0m\u001b[0;34m)\u001b[0m\u001b[0;34m\u001b[0m\u001b[0;34m\u001b[0m\u001b[0m\n\u001b[0m",
      "\u001b[0;31mAttributeError\u001b[0m: module 'seaborn' has no attribute 'histplot'"
     ]
    }
   ],
   "source": [
    "# Applying log transformation to the attributes to normalise the data\n",
    "\n",
    "df3['SANCTION_AMT_LOG'] = np.log(df3['SANCTION_AMT'])\n",
    "sns.histplot(df3['SANCTION_AMT_LOG'])"
   ]
  },
  {
   "cell_type": "code",
   "execution_count": 48,
   "metadata": {
    "colab": {
     "base_uri": "https://localhost:8080/",
     "height": 306
    },
    "id": "ONvj1CyenVoQ",
    "outputId": "ba911d14-b465-42ec-b0c4-b491d09f9b8b"
   },
   "outputs": [
    {
     "ename": "AttributeError",
     "evalue": "module 'seaborn' has no attribute 'histplot'",
     "output_type": "error",
     "traceback": [
      "\u001b[0;31m---------------------------------------------------------------------------\u001b[0m",
      "\u001b[0;31mAttributeError\u001b[0m                            Traceback (most recent call last)",
      "\u001b[0;32m<ipython-input-48-843f408c0ff9>\u001b[0m in \u001b[0;36m<module>\u001b[0;34m\u001b[0m\n\u001b[0;32m----> 1\u001b[0;31m \u001b[0msns\u001b[0m\u001b[0;34m.\u001b[0m\u001b[0mhistplot\u001b[0m\u001b[0;34m(\u001b[0m\u001b[0mdf3\u001b[0m\u001b[0;34m[\u001b[0m\u001b[0;34m'TOT_OUTSTD_BAL'\u001b[0m\u001b[0;34m]\u001b[0m\u001b[0;34m)\u001b[0m\u001b[0;34m\u001b[0m\u001b[0;34m\u001b[0m\u001b[0m\n\u001b[0m",
      "\u001b[0;31mAttributeError\u001b[0m: module 'seaborn' has no attribute 'histplot'"
     ]
    }
   ],
   "source": [
    "sns.histplot(df3['TOT_OUTSTD_BAL'])"
   ]
  },
  {
   "cell_type": "code",
   "execution_count": 49,
   "metadata": {
    "colab": {
     "base_uri": "https://localhost:8080/",
     "height": 446
    },
    "id": "fCwwA3HcnVkl",
    "outputId": "7e5cd363-04c7-4382-ccb2-c425471c1974"
   },
   "outputs": [
    {
     "name": "stderr",
     "output_type": "stream",
     "text": [
      "/Users/dileepsathyan/opt/anaconda3/lib/python3.8/site-packages/pandas/core/series.py:679: RuntimeWarning: divide by zero encountered in log\n",
      "  result = getattr(ufunc, method)(*inputs, **kwargs)\n",
      "<ipython-input-49-7f1cb4fb8e4d>:5: SettingWithCopyWarning: \n",
      "A value is trying to be set on a copy of a slice from a DataFrame.\n",
      "Try using .loc[row_indexer,col_indexer] = value instead\n",
      "\n",
      "See the caveats in the documentation: https://pandas.pydata.org/pandas-docs/stable/user_guide/indexing.html#returning-a-view-versus-a-copy\n",
      "  df3['TOT_OUTSTD_BAL_LOG'] = np.log(df3['TOT_OUTSTD_BAL'])\n"
     ]
    },
    {
     "ename": "AttributeError",
     "evalue": "module 'seaborn' has no attribute 'histplot'",
     "output_type": "error",
     "traceback": [
      "\u001b[0;31m---------------------------------------------------------------------------\u001b[0m",
      "\u001b[0;31mAttributeError\u001b[0m                            Traceback (most recent call last)",
      "\u001b[0;32m<ipython-input-49-7f1cb4fb8e4d>\u001b[0m in \u001b[0;36m<module>\u001b[0;34m\u001b[0m\n\u001b[1;32m      4\u001b[0m \u001b[0;34m\u001b[0m\u001b[0m\n\u001b[1;32m      5\u001b[0m \u001b[0mdf3\u001b[0m\u001b[0;34m[\u001b[0m\u001b[0;34m'TOT_OUTSTD_BAL_LOG'\u001b[0m\u001b[0;34m]\u001b[0m \u001b[0;34m=\u001b[0m \u001b[0mnp\u001b[0m\u001b[0;34m.\u001b[0m\u001b[0mlog\u001b[0m\u001b[0;34m(\u001b[0m\u001b[0mdf3\u001b[0m\u001b[0;34m[\u001b[0m\u001b[0;34m'TOT_OUTSTD_BAL'\u001b[0m\u001b[0;34m]\u001b[0m\u001b[0;34m)\u001b[0m\u001b[0;34m\u001b[0m\u001b[0;34m\u001b[0m\u001b[0m\n\u001b[0;32m----> 6\u001b[0;31m \u001b[0msns\u001b[0m\u001b[0;34m.\u001b[0m\u001b[0mhistplot\u001b[0m\u001b[0;34m(\u001b[0m\u001b[0mdf3\u001b[0m\u001b[0;34m[\u001b[0m\u001b[0;34m'TOT_OUTSTD_BAL_LOG'\u001b[0m\u001b[0;34m]\u001b[0m\u001b[0;34m)\u001b[0m\u001b[0;34m\u001b[0m\u001b[0;34m\u001b[0m\u001b[0m\n\u001b[0m",
      "\u001b[0;31mAttributeError\u001b[0m: module 'seaborn' has no attribute 'histplot'"
     ]
    }
   ],
   "source": [
    "# Applying log transformation to the attributes to normalise the data\n",
    "\n",
    "# df3.replace([np.inf, -np.inf], np.nan, inplace=True)\n",
    "\n",
    "df3['TOT_OUTSTD_BAL_LOG'] = np.log(df3['TOT_OUTSTD_BAL'])\n",
    "sns.histplot(df3['TOT_OUTSTD_BAL_LOG'])"
   ]
  },
  {
   "cell_type": "code",
   "execution_count": 50,
   "metadata": {
    "colab": {
     "base_uri": "https://localhost:8080/",
     "height": 303
    },
    "id": "jULMj0PUScZU",
    "outputId": "c13bb839-7ec0-4f77-adbc-f85ffd0cded1"
   },
   "outputs": [
    {
     "ename": "AttributeError",
     "evalue": "module 'seaborn' has no attribute 'histplot'",
     "output_type": "error",
     "traceback": [
      "\u001b[0;31m---------------------------------------------------------------------------\u001b[0m",
      "\u001b[0;31mAttributeError\u001b[0m                            Traceback (most recent call last)",
      "\u001b[0;32m<ipython-input-50-db09ba213ad4>\u001b[0m in \u001b[0;36m<module>\u001b[0;34m\u001b[0m\n\u001b[0;32m----> 1\u001b[0;31m \u001b[0msns\u001b[0m\u001b[0;34m.\u001b[0m\u001b[0mhistplot\u001b[0m\u001b[0;34m(\u001b[0m\u001b[0mdf3\u001b[0m\u001b[0;34m[\u001b[0m\u001b[0;34m'OVER_DUE_AMT'\u001b[0m\u001b[0;34m]\u001b[0m\u001b[0;34m)\u001b[0m\u001b[0;34m\u001b[0m\u001b[0;34m\u001b[0m\u001b[0m\n\u001b[0m",
      "\u001b[0;31mAttributeError\u001b[0m: module 'seaborn' has no attribute 'histplot'"
     ]
    }
   ],
   "source": [
    "sns.histplot(df3['OVER_DUE_AMT'])"
   ]
  },
  {
   "cell_type": "code",
   "execution_count": 51,
   "metadata": {
    "colab": {
     "base_uri": "https://localhost:8080/",
     "height": 446
    },
    "id": "mFPYNYmGScV8",
    "outputId": "6274af52-2f55-49fd-95fc-bfdec8550faa"
   },
   "outputs": [
    {
     "name": "stderr",
     "output_type": "stream",
     "text": [
      "<ipython-input-51-d6c568e7699a>:3: SettingWithCopyWarning: \n",
      "A value is trying to be set on a copy of a slice from a DataFrame.\n",
      "Try using .loc[row_indexer,col_indexer] = value instead\n",
      "\n",
      "See the caveats in the documentation: https://pandas.pydata.org/pandas-docs/stable/user_guide/indexing.html#returning-a-view-versus-a-copy\n",
      "  df3['OVER_DUE_AMT_LOG'] = np.log(df3['OVER_DUE_AMT'])\n"
     ]
    },
    {
     "ename": "AttributeError",
     "evalue": "module 'seaborn' has no attribute 'histplot'",
     "output_type": "error",
     "traceback": [
      "\u001b[0;31m---------------------------------------------------------------------------\u001b[0m",
      "\u001b[0;31mAttributeError\u001b[0m                            Traceback (most recent call last)",
      "\u001b[0;32m<ipython-input-51-d6c568e7699a>\u001b[0m in \u001b[0;36m<module>\u001b[0;34m\u001b[0m\n\u001b[1;32m      2\u001b[0m \u001b[0;34m\u001b[0m\u001b[0m\n\u001b[1;32m      3\u001b[0m \u001b[0mdf3\u001b[0m\u001b[0;34m[\u001b[0m\u001b[0;34m'OVER_DUE_AMT_LOG'\u001b[0m\u001b[0;34m]\u001b[0m \u001b[0;34m=\u001b[0m \u001b[0mnp\u001b[0m\u001b[0;34m.\u001b[0m\u001b[0mlog\u001b[0m\u001b[0;34m(\u001b[0m\u001b[0mdf3\u001b[0m\u001b[0;34m[\u001b[0m\u001b[0;34m'OVER_DUE_AMT'\u001b[0m\u001b[0;34m]\u001b[0m\u001b[0;34m)\u001b[0m\u001b[0;34m\u001b[0m\u001b[0;34m\u001b[0m\u001b[0m\n\u001b[0;32m----> 4\u001b[0;31m \u001b[0msns\u001b[0m\u001b[0;34m.\u001b[0m\u001b[0mhistplot\u001b[0m\u001b[0;34m(\u001b[0m\u001b[0mdf3\u001b[0m\u001b[0;34m[\u001b[0m\u001b[0;34m'OVER_DUE_AMT_LOG'\u001b[0m\u001b[0;34m]\u001b[0m\u001b[0;34m)\u001b[0m\u001b[0;34m\u001b[0m\u001b[0;34m\u001b[0m\u001b[0m\n\u001b[0m",
      "\u001b[0;31mAttributeError\u001b[0m: module 'seaborn' has no attribute 'histplot'"
     ]
    }
   ],
   "source": [
    "# Applying log transformation to the attributes to normalise the data\n",
    "\n",
    "df3['OVER_DUE_AMT_LOG'] = np.log(df3['OVER_DUE_AMT'])\n",
    "sns.histplot(df3['OVER_DUE_AMT_LOG'])"
   ]
  },
  {
   "cell_type": "code",
   "execution_count": 52,
   "metadata": {
    "colab": {
     "base_uri": "https://localhost:8080/",
     "height": 303
    },
    "id": "j0eXiTHTScSk",
    "outputId": "078cbdb9-1f36-4c6d-e9d7-7e6598bae1fa"
   },
   "outputs": [
    {
     "ename": "AttributeError",
     "evalue": "module 'seaborn' has no attribute 'histplot'",
     "output_type": "error",
     "traceback": [
      "\u001b[0;31m---------------------------------------------------------------------------\u001b[0m",
      "\u001b[0;31mAttributeError\u001b[0m                            Traceback (most recent call last)",
      "\u001b[0;32m<ipython-input-52-18b2be9502ea>\u001b[0m in \u001b[0;36m<module>\u001b[0;34m\u001b[0m\n\u001b[0;32m----> 1\u001b[0;31m \u001b[0msns\u001b[0m\u001b[0;34m.\u001b[0m\u001b[0mhistplot\u001b[0m\u001b[0;34m(\u001b[0m\u001b[0mdf3\u001b[0m\u001b[0;34m[\u001b[0m\u001b[0;34m'INSTALLMENT_AMT'\u001b[0m\u001b[0;34m]\u001b[0m\u001b[0;34m)\u001b[0m\u001b[0;34m\u001b[0m\u001b[0;34m\u001b[0m\u001b[0m\n\u001b[0m",
      "\u001b[0;31mAttributeError\u001b[0m: module 'seaborn' has no attribute 'histplot'"
     ]
    }
   ],
   "source": [
    "sns.histplot(df3['INSTALLMENT_AMT'])"
   ]
  },
  {
   "cell_type": "code",
   "execution_count": 53,
   "metadata": {
    "colab": {
     "base_uri": "https://localhost:8080/",
     "height": 446
    },
    "id": "dJ0kjvtHScQJ",
    "outputId": "e46b54a9-cf43-4a4c-8382-6eec54217aea"
   },
   "outputs": [
    {
     "name": "stderr",
     "output_type": "stream",
     "text": [
      "<ipython-input-53-4d44c9e1d4c2>:3: SettingWithCopyWarning: \n",
      "A value is trying to be set on a copy of a slice from a DataFrame.\n",
      "Try using .loc[row_indexer,col_indexer] = value instead\n",
      "\n",
      "See the caveats in the documentation: https://pandas.pydata.org/pandas-docs/stable/user_guide/indexing.html#returning-a-view-versus-a-copy\n",
      "  df3['INSTALLMENT_AMT_LOG'] = np.log(df3['INSTALLMENT_AMT'])\n"
     ]
    },
    {
     "ename": "AttributeError",
     "evalue": "module 'seaborn' has no attribute 'histplot'",
     "output_type": "error",
     "traceback": [
      "\u001b[0;31m---------------------------------------------------------------------------\u001b[0m",
      "\u001b[0;31mAttributeError\u001b[0m                            Traceback (most recent call last)",
      "\u001b[0;32m<ipython-input-53-4d44c9e1d4c2>\u001b[0m in \u001b[0;36m<module>\u001b[0;34m\u001b[0m\n\u001b[1;32m      2\u001b[0m \u001b[0;34m\u001b[0m\u001b[0m\n\u001b[1;32m      3\u001b[0m \u001b[0mdf3\u001b[0m\u001b[0;34m[\u001b[0m\u001b[0;34m'INSTALLMENT_AMT_LOG'\u001b[0m\u001b[0;34m]\u001b[0m \u001b[0;34m=\u001b[0m \u001b[0mnp\u001b[0m\u001b[0;34m.\u001b[0m\u001b[0mlog\u001b[0m\u001b[0;34m(\u001b[0m\u001b[0mdf3\u001b[0m\u001b[0;34m[\u001b[0m\u001b[0;34m'INSTALLMENT_AMT'\u001b[0m\u001b[0;34m]\u001b[0m\u001b[0;34m)\u001b[0m\u001b[0;34m\u001b[0m\u001b[0;34m\u001b[0m\u001b[0m\n\u001b[0;32m----> 4\u001b[0;31m \u001b[0msns\u001b[0m\u001b[0;34m.\u001b[0m\u001b[0mhistplot\u001b[0m\u001b[0;34m(\u001b[0m\u001b[0mdf3\u001b[0m\u001b[0;34m[\u001b[0m\u001b[0;34m'INSTALLMENT_AMT_LOG'\u001b[0m\u001b[0;34m]\u001b[0m\u001b[0;34m)\u001b[0m\u001b[0;34m\u001b[0m\u001b[0;34m\u001b[0m\u001b[0m\n\u001b[0m",
      "\u001b[0;31mAttributeError\u001b[0m: module 'seaborn' has no attribute 'histplot'"
     ]
    }
   ],
   "source": [
    "# Applying log transformation to the attributes to normalise the data\n",
    "\n",
    "df3['INSTALLMENT_AMT_LOG'] = np.log(df3['INSTALLMENT_AMT'])\n",
    "sns.histplot(df3['INSTALLMENT_AMT_LOG'])"
   ]
  },
  {
   "cell_type": "code",
   "execution_count": 54,
   "metadata": {
    "colab": {
     "base_uri": "https://localhost:8080/",
     "height": 359
    },
    "id": "QR-QYsE-oQyr",
    "outputId": "a7becbc1-951d-478c-e08c-f48581d9e5e5"
   },
   "outputs": [
    {
     "name": "stderr",
     "output_type": "stream",
     "text": [
      "/Users/dileepsathyan/opt/anaconda3/lib/python3.8/site-packages/pandas/core/frame.py:4166: SettingWithCopyWarning: \n",
      "A value is trying to be set on a copy of a slice from a DataFrame\n",
      "\n",
      "See the caveats in the documentation: https://pandas.pydata.org/pandas-docs/stable/user_guide/indexing.html#returning-a-view-versus-a-copy\n",
      "  return super().replace(\n"
     ]
    },
    {
     "data": {
      "text/html": [
       "<div>\n",
       "<style scoped>\n",
       "    .dataframe tbody tr th:only-of-type {\n",
       "        vertical-align: middle;\n",
       "    }\n",
       "\n",
       "    .dataframe tbody tr th {\n",
       "        vertical-align: top;\n",
       "    }\n",
       "\n",
       "    .dataframe thead th {\n",
       "        text-align: right;\n",
       "    }\n",
       "</style>\n",
       "<table border=\"1\" class=\"dataframe\">\n",
       "  <thead>\n",
       "    <tr style=\"text-align: right;\">\n",
       "      <th></th>\n",
       "      <th>SUBJECT_ID</th>\n",
       "      <th>ACCOUNT_ID</th>\n",
       "      <th>CURR_CODE</th>\n",
       "      <th>REPAYMENT_FREQUENCY</th>\n",
       "      <th>NUMBER_OF_INSTALLMENTS</th>\n",
       "      <th>SANCTION_AMT</th>\n",
       "      <th>TOT_OUTSTD_BAL</th>\n",
       "      <th>OVER_DUE_AMT</th>\n",
       "      <th>INSTALLMENT_AMT</th>\n",
       "      <th>LOAN_TYPE</th>\n",
       "      <th>LOAN_STATUS</th>\n",
       "      <th>LOAN_TENURE</th>\n",
       "      <th>DPD</th>\n",
       "      <th>SANCTION_AMT_LOG</th>\n",
       "      <th>TOT_OUTSTD_BAL_LOG</th>\n",
       "      <th>OVER_DUE_AMT_LOG</th>\n",
       "      <th>INSTALLMENT_AMT_LOG</th>\n",
       "    </tr>\n",
       "  </thead>\n",
       "  <tbody>\n",
       "    <tr>\n",
       "      <th>0</th>\n",
       "      <td>110113010000498773</td>\n",
       "      <td>2201160002396407</td>\n",
       "      <td>TZS</td>\n",
       "      <td>MonthlyInstalments30Days</td>\n",
       "      <td>6.0</td>\n",
       "      <td>400000.0</td>\n",
       "      <td>0.00</td>\n",
       "      <td>205609.4</td>\n",
       "      <td>0.00</td>\n",
       "      <td>OtherInstalmentOperation</td>\n",
       "      <td>Existing</td>\n",
       "      <td>183.0</td>\n",
       "      <td>399.0</td>\n",
       "      <td>12.899220</td>\n",
       "      <td>0.000000</td>\n",
       "      <td>12.233734</td>\n",
       "      <td>0.000000</td>\n",
       "    </tr>\n",
       "    <tr>\n",
       "      <th>1</th>\n",
       "      <td>110115010001596750</td>\n",
       "      <td>2201170002990772</td>\n",
       "      <td>TZS</td>\n",
       "      <td>MonthlyInstalments30Days</td>\n",
       "      <td>61.0</td>\n",
       "      <td>3500000.0</td>\n",
       "      <td>3272849.49</td>\n",
       "      <td>0.0</td>\n",
       "      <td>100243.11</td>\n",
       "      <td>ConsumerLoan</td>\n",
       "      <td>Existing</td>\n",
       "      <td>1832.0</td>\n",
       "      <td>0.0</td>\n",
       "      <td>15.068274</td>\n",
       "      <td>15.001172</td>\n",
       "      <td>0.000000</td>\n",
       "      <td>11.515354</td>\n",
       "    </tr>\n",
       "    <tr>\n",
       "      <th>2</th>\n",
       "      <td>110114010000832340</td>\n",
       "      <td>2201140001177207</td>\n",
       "      <td>TZS</td>\n",
       "      <td>MonthlyInstalments30Days</td>\n",
       "      <td>57.0</td>\n",
       "      <td>4200000.0</td>\n",
       "      <td>870462.93</td>\n",
       "      <td>0.0</td>\n",
       "      <td>106652.40</td>\n",
       "      <td>ConsumerLoan</td>\n",
       "      <td>Existing</td>\n",
       "      <td>1735.0</td>\n",
       "      <td>0.0</td>\n",
       "      <td>15.250595</td>\n",
       "      <td>13.676780</td>\n",
       "      <td>0.000000</td>\n",
       "      <td>11.577330</td>\n",
       "    </tr>\n",
       "    <tr>\n",
       "      <th>3</th>\n",
       "      <td>110114010000740514</td>\n",
       "      <td>2201160002371670</td>\n",
       "      <td>TZS</td>\n",
       "      <td>MonthlyInstalments30Days</td>\n",
       "      <td>24.0</td>\n",
       "      <td>60000000.0</td>\n",
       "      <td>15740676.93</td>\n",
       "      <td>0.0</td>\n",
       "      <td>2987342.81</td>\n",
       "      <td>BusinessLoan</td>\n",
       "      <td>Existing</td>\n",
       "      <td>730.0</td>\n",
       "      <td>18.0</td>\n",
       "      <td>17.909855</td>\n",
       "      <td>16.571759</td>\n",
       "      <td>0.000000</td>\n",
       "      <td>14.909895</td>\n",
       "    </tr>\n",
       "    <tr>\n",
       "      <th>4</th>\n",
       "      <td>110114010000811717</td>\n",
       "      <td>2201140001161294</td>\n",
       "      <td>TZS</td>\n",
       "      <td>MonthlyInstalments30Days</td>\n",
       "      <td>69.0</td>\n",
       "      <td>3400000.0</td>\n",
       "      <td>828981.51</td>\n",
       "      <td>0.0</td>\n",
       "      <td>99164.00</td>\n",
       "      <td>ConsumerLoan</td>\n",
       "      <td>Existing</td>\n",
       "      <td>2095.0</td>\n",
       "      <td>0.0</td>\n",
       "      <td>15.039286</td>\n",
       "      <td>13.627953</td>\n",
       "      <td>0.000000</td>\n",
       "      <td>11.504530</td>\n",
       "    </tr>\n",
       "  </tbody>\n",
       "</table>\n",
       "</div>"
      ],
      "text/plain": [
       "           SUBJECT_ID        ACCOUNT_ID CURR_CODE       REPAYMENT_FREQUENCY  \\\n",
       "0  110113010000498773  2201160002396407       TZS  MonthlyInstalments30Days   \n",
       "1  110115010001596750  2201170002990772       TZS  MonthlyInstalments30Days   \n",
       "2  110114010000832340  2201140001177207       TZS  MonthlyInstalments30Days   \n",
       "3  110114010000740514  2201160002371670       TZS  MonthlyInstalments30Days   \n",
       "4  110114010000811717  2201140001161294       TZS  MonthlyInstalments30Days   \n",
       "\n",
       "   NUMBER_OF_INSTALLMENTS  SANCTION_AMT  TOT_OUTSTD_BAL  OVER_DUE_AMT  \\\n",
       "0                     6.0      400000.0            0.00      205609.4   \n",
       "1                    61.0     3500000.0      3272849.49           0.0   \n",
       "2                    57.0     4200000.0       870462.93           0.0   \n",
       "3                    24.0    60000000.0     15740676.93           0.0   \n",
       "4                    69.0     3400000.0       828981.51           0.0   \n",
       "\n",
       "   INSTALLMENT_AMT                 LOAN_TYPE LOAN_STATUS  LOAN_TENURE    DPD  \\\n",
       "0             0.00  OtherInstalmentOperation    Existing        183.0  399.0   \n",
       "1        100243.11              ConsumerLoan    Existing       1832.0    0.0   \n",
       "2        106652.40              ConsumerLoan    Existing       1735.0    0.0   \n",
       "3       2987342.81              BusinessLoan    Existing        730.0   18.0   \n",
       "4         99164.00              ConsumerLoan    Existing       2095.0    0.0   \n",
       "\n",
       "   SANCTION_AMT_LOG  TOT_OUTSTD_BAL_LOG  OVER_DUE_AMT_LOG  INSTALLMENT_AMT_LOG  \n",
       "0         12.899220            0.000000         12.233734             0.000000  \n",
       "1         15.068274           15.001172          0.000000            11.515354  \n",
       "2         15.250595           13.676780          0.000000            11.577330  \n",
       "3         17.909855           16.571759          0.000000            14.909895  \n",
       "4         15.039286           13.627953          0.000000            11.504530  "
      ]
     },
     "execution_count": 54,
     "metadata": {},
     "output_type": "execute_result"
    }
   ],
   "source": [
    "# Handle the inifinity values created from log functions.\n",
    "\n",
    "df3.replace([np.inf, -np.inf], 0, inplace=True)\n",
    "df3.head()"
   ]
  },
  {
   "cell_type": "code",
   "execution_count": 55,
   "metadata": {
    "colab": {
     "base_uri": "https://localhost:8080/",
     "height": 505
    },
    "id": "W-zuwtfTwGfW",
    "outputId": "4f6592de-e663-4e71-f1d0-1f5daf632605"
   },
   "outputs": [
    {
     "ename": "AttributeError",
     "evalue": "module 'seaborn' has no attribute 'histplot'",
     "output_type": "error",
     "traceback": [
      "\u001b[0;31m---------------------------------------------------------------------------\u001b[0m",
      "\u001b[0;31mAttributeError\u001b[0m                            Traceback (most recent call last)",
      "\u001b[0;32m<ipython-input-55-34e649ef59fe>\u001b[0m in \u001b[0;36m<module>\u001b[0;34m\u001b[0m\n\u001b[1;32m      2\u001b[0m \u001b[0;34m\u001b[0m\u001b[0m\n\u001b[1;32m      3\u001b[0m \u001b[0mplt\u001b[0m\u001b[0;34m.\u001b[0m\u001b[0msubplot\u001b[0m\u001b[0;34m(\u001b[0m\u001b[0;36m2\u001b[0m\u001b[0;34m,\u001b[0m \u001b[0;36m2\u001b[0m\u001b[0;34m,\u001b[0m \u001b[0;36m1\u001b[0m\u001b[0;34m)\u001b[0m\u001b[0;34m\u001b[0m\u001b[0;34m\u001b[0m\u001b[0m\n\u001b[0;32m----> 4\u001b[0;31m \u001b[0msns\u001b[0m\u001b[0;34m.\u001b[0m\u001b[0mhistplot\u001b[0m\u001b[0;34m(\u001b[0m\u001b[0mdf3\u001b[0m\u001b[0;34m[\u001b[0m\u001b[0;34m'SANCTION_AMT'\u001b[0m\u001b[0;34m]\u001b[0m\u001b[0;34m)\u001b[0m\u001b[0;34m\u001b[0m\u001b[0;34m\u001b[0m\u001b[0m\n\u001b[0m\u001b[1;32m      5\u001b[0m \u001b[0;34m\u001b[0m\u001b[0m\n\u001b[1;32m      6\u001b[0m \u001b[0mplt\u001b[0m\u001b[0;34m.\u001b[0m\u001b[0msubplot\u001b[0m\u001b[0;34m(\u001b[0m\u001b[0;36m2\u001b[0m\u001b[0;34m,\u001b[0m \u001b[0;36m2\u001b[0m\u001b[0;34m,\u001b[0m \u001b[0;36m2\u001b[0m\u001b[0;34m)\u001b[0m\u001b[0;34m\u001b[0m\u001b[0;34m\u001b[0m\u001b[0m\n",
      "\u001b[0;31mAttributeError\u001b[0m: module 'seaborn' has no attribute 'histplot'"
     ]
    },
    {
     "data": {
      "image/png": "[encoded data removed]",
      "text/plain": [
       "<Figure size 1152x576 with 1 Axes>"
      ]
     },
     "metadata": {
      "needs_background": "light"
     },
     "output_type": "display_data"
    }
   ],
   "source": [
    "fig = plt.figure(figsize=(16,8))\n",
    "\n",
    "plt.subplot(2, 2, 1)\n",
    "sns.histplot(df3['SANCTION_AMT'])\n",
    "\n",
    "plt.subplot(2, 2, 2)\n",
    "sns.histplot(df3['TOT_OUTSTD_BAL'])\n",
    "\n",
    "plt.subplot(2, 2, 3)\n",
    "sns.histplot(df3['OVER_DUE_AMT'])\n",
    "\n",
    "plt.subplot(2, 2, 4)\n",
    "sns.histplot(df3['INSTALLMENT_AMT'])\n",
    "\n",
    "plt.show()"
   ]
  },
  {
   "cell_type": "code",
   "execution_count": 56,
   "metadata": {
    "colab": {
     "base_uri": "https://localhost:8080/",
     "height": 502
    },
    "id": "vw4HO4G9xNiF",
    "outputId": "a26ed8c1-a4a9-47bc-cf10-ccf85691a96f"
   },
   "outputs": [
    {
     "ename": "AttributeError",
     "evalue": "module 'seaborn' has no attribute 'histplot'",
     "output_type": "error",
     "traceback": [
      "\u001b[0;31m---------------------------------------------------------------------------\u001b[0m",
      "\u001b[0;31mAttributeError\u001b[0m                            Traceback (most recent call last)",
      "\u001b[0;32m<ipython-input-56-99935ee1afa1>\u001b[0m in \u001b[0;36m<module>\u001b[0;34m\u001b[0m\n\u001b[1;32m      2\u001b[0m \u001b[0;34m\u001b[0m\u001b[0m\n\u001b[1;32m      3\u001b[0m \u001b[0mplt\u001b[0m\u001b[0;34m.\u001b[0m\u001b[0msubplot\u001b[0m\u001b[0;34m(\u001b[0m\u001b[0;36m2\u001b[0m\u001b[0;34m,\u001b[0m \u001b[0;36m2\u001b[0m\u001b[0;34m,\u001b[0m \u001b[0;36m1\u001b[0m\u001b[0;34m)\u001b[0m\u001b[0;34m\u001b[0m\u001b[0;34m\u001b[0m\u001b[0m\n\u001b[0;32m----> 4\u001b[0;31m \u001b[0msns\u001b[0m\u001b[0;34m.\u001b[0m\u001b[0mhistplot\u001b[0m\u001b[0;34m(\u001b[0m\u001b[0mdf3\u001b[0m\u001b[0;34m[\u001b[0m\u001b[0;34m'SANCTION_AMT_LOG'\u001b[0m\u001b[0;34m]\u001b[0m\u001b[0;34m)\u001b[0m\u001b[0;34m\u001b[0m\u001b[0;34m\u001b[0m\u001b[0m\n\u001b[0m\u001b[1;32m      5\u001b[0m \u001b[0;34m\u001b[0m\u001b[0m\n\u001b[1;32m      6\u001b[0m \u001b[0mplt\u001b[0m\u001b[0;34m.\u001b[0m\u001b[0msubplot\u001b[0m\u001b[0;34m(\u001b[0m\u001b[0;36m2\u001b[0m\u001b[0;34m,\u001b[0m \u001b[0;36m2\u001b[0m\u001b[0;34m,\u001b[0m \u001b[0;36m2\u001b[0m\u001b[0;34m)\u001b[0m\u001b[0;34m\u001b[0m\u001b[0;34m\u001b[0m\u001b[0m\n",
      "\u001b[0;31mAttributeError\u001b[0m: module 'seaborn' has no attribute 'histplot'"
     ]
    },
    {
     "data": {
      "image/png": "[encoded data removed]",
      "text/plain": [
       "<Figure size 1152x576 with 1 Axes>"
      ]
     },
     "metadata": {
      "needs_background": "light"
     },
     "output_type": "display_data"
    }
   ],
   "source": [
    "fig = plt.figure(figsize=(16,8))\n",
    "\n",
    "plt.subplot(2, 2, 1)\n",
    "sns.histplot(df3['SANCTION_AMT_LOG'])\n",
    "\n",
    "plt.subplot(2, 2, 2)\n",
    "sns.histplot(df3['TOT_OUTSTD_BAL_LOG'])\n",
    "\n",
    "plt.subplot(2, 2, 3)\n",
    "sns.histplot(df3['OVER_DUE_AMT_LOG'])\n",
    "\n",
    "plt.subplot(2, 2, 4)\n",
    "sns.histplot(df3['INSTALLMENT_AMT_LOG'])\n",
    "\n",
    "plt.show()"
   ]
  },
  {
   "cell_type": "code",
   "execution_count": 57,
   "metadata": {
    "colab": {
     "base_uri": "https://localhost:8080/",
     "height": 270
    },
    "id": "b0s-wbsyScK4",
    "outputId": "efcbcf40-287b-4791-bce8-17df7b70a9db"
   },
   "outputs": [
    {
     "data": {
      "text/html": [
       "<div>\n",
       "<style scoped>\n",
       "    .dataframe tbody tr th:only-of-type {\n",
       "        vertical-align: middle;\n",
       "    }\n",
       "\n",
       "    .dataframe tbody tr th {\n",
       "        vertical-align: top;\n",
       "    }\n",
       "\n",
       "    .dataframe thead th {\n",
       "        text-align: right;\n",
       "    }\n",
       "</style>\n",
       "<table border=\"1\" class=\"dataframe\">\n",
       "  <thead>\n",
       "    <tr style=\"text-align: right;\">\n",
       "      <th></th>\n",
       "      <th>SUBJECT_ID</th>\n",
       "      <th>ACCOUNT_ID</th>\n",
       "      <th>CURR_CODE</th>\n",
       "      <th>REPAYMENT_FREQUENCY</th>\n",
       "      <th>NUMBER_OF_INSTALLMENTS</th>\n",
       "      <th>SANCTION_AMT</th>\n",
       "      <th>TOT_OUTSTD_BAL</th>\n",
       "      <th>OVER_DUE_AMT</th>\n",
       "      <th>INSTALLMENT_AMT</th>\n",
       "      <th>LOAN_TYPE</th>\n",
       "      <th>LOAN_STATUS</th>\n",
       "      <th>LOAN_TENURE</th>\n",
       "      <th>DPD</th>\n",
       "      <th>SANCTION_AMT_LOG</th>\n",
       "      <th>TOT_OUTSTD_BAL_LOG</th>\n",
       "      <th>OVER_DUE_AMT_LOG</th>\n",
       "      <th>INSTALLMENT_AMT_LOG</th>\n",
       "      <th>IS_DEFAULT</th>\n",
       "    </tr>\n",
       "  </thead>\n",
       "  <tbody>\n",
       "    <tr>\n",
       "      <th>0</th>\n",
       "      <td>110113010000498773</td>\n",
       "      <td>2201160002396407</td>\n",
       "      <td>TZS</td>\n",
       "      <td>MonthlyInstalments30Days</td>\n",
       "      <td>6.0</td>\n",
       "      <td>400000.0</td>\n",
       "      <td>0.00</td>\n",
       "      <td>205609.4</td>\n",
       "      <td>0.00</td>\n",
       "      <td>OtherInstalmentOperation</td>\n",
       "      <td>Existing</td>\n",
       "      <td>183.0</td>\n",
       "      <td>399.0</td>\n",
       "      <td>12.899220</td>\n",
       "      <td>0.000000</td>\n",
       "      <td>12.233734</td>\n",
       "      <td>0.000000</td>\n",
       "      <td>1</td>\n",
       "    </tr>\n",
       "    <tr>\n",
       "      <th>1</th>\n",
       "      <td>110115010001596750</td>\n",
       "      <td>2201170002990772</td>\n",
       "      <td>TZS</td>\n",
       "      <td>MonthlyInstalments30Days</td>\n",
       "      <td>61.0</td>\n",
       "      <td>3500000.0</td>\n",
       "      <td>3272849.49</td>\n",
       "      <td>0.0</td>\n",
       "      <td>100243.11</td>\n",
       "      <td>ConsumerLoan</td>\n",
       "      <td>Existing</td>\n",
       "      <td>1832.0</td>\n",
       "      <td>0.0</td>\n",
       "      <td>15.068274</td>\n",
       "      <td>15.001172</td>\n",
       "      <td>0.000000</td>\n",
       "      <td>11.515354</td>\n",
       "      <td>0</td>\n",
       "    </tr>\n",
       "    <tr>\n",
       "      <th>2</th>\n",
       "      <td>110114010000832340</td>\n",
       "      <td>2201140001177207</td>\n",
       "      <td>TZS</td>\n",
       "      <td>MonthlyInstalments30Days</td>\n",
       "      <td>57.0</td>\n",
       "      <td>4200000.0</td>\n",
       "      <td>870462.93</td>\n",
       "      <td>0.0</td>\n",
       "      <td>106652.40</td>\n",
       "      <td>ConsumerLoan</td>\n",
       "      <td>Existing</td>\n",
       "      <td>1735.0</td>\n",
       "      <td>0.0</td>\n",
       "      <td>15.250595</td>\n",
       "      <td>13.676780</td>\n",
       "      <td>0.000000</td>\n",
       "      <td>11.577330</td>\n",
       "      <td>0</td>\n",
       "    </tr>\n",
       "    <tr>\n",
       "      <th>3</th>\n",
       "      <td>110114010000740514</td>\n",
       "      <td>2201160002371670</td>\n",
       "      <td>TZS</td>\n",
       "      <td>MonthlyInstalments30Days</td>\n",
       "      <td>24.0</td>\n",
       "      <td>60000000.0</td>\n",
       "      <td>15740676.93</td>\n",
       "      <td>0.0</td>\n",
       "      <td>2987342.81</td>\n",
       "      <td>BusinessLoan</td>\n",
       "      <td>Existing</td>\n",
       "      <td>730.0</td>\n",
       "      <td>18.0</td>\n",
       "      <td>17.909855</td>\n",
       "      <td>16.571759</td>\n",
       "      <td>0.000000</td>\n",
       "      <td>14.909895</td>\n",
       "      <td>0</td>\n",
       "    </tr>\n",
       "    <tr>\n",
       "      <th>4</th>\n",
       "      <td>110114010000811717</td>\n",
       "      <td>2201140001161294</td>\n",
       "      <td>TZS</td>\n",
       "      <td>MonthlyInstalments30Days</td>\n",
       "      <td>69.0</td>\n",
       "      <td>3400000.0</td>\n",
       "      <td>828981.51</td>\n",
       "      <td>0.0</td>\n",
       "      <td>99164.00</td>\n",
       "      <td>ConsumerLoan</td>\n",
       "      <td>Existing</td>\n",
       "      <td>2095.0</td>\n",
       "      <td>0.0</td>\n",
       "      <td>15.039286</td>\n",
       "      <td>13.627953</td>\n",
       "      <td>0.000000</td>\n",
       "      <td>11.504530</td>\n",
       "      <td>0</td>\n",
       "    </tr>\n",
       "  </tbody>\n",
       "</table>\n",
       "</div>"
      ],
      "text/plain": [
       "           SUBJECT_ID        ACCOUNT_ID CURR_CODE       REPAYMENT_FREQUENCY  \\\n",
       "0  110113010000498773  2201160002396407       TZS  MonthlyInstalments30Days   \n",
       "1  110115010001596750  2201170002990772       TZS  MonthlyInstalments30Days   \n",
       "2  110114010000832340  2201140001177207       TZS  MonthlyInstalments30Days   \n",
       "3  110114010000740514  2201160002371670       TZS  MonthlyInstalments30Days   \n",
       "4  110114010000811717  2201140001161294       TZS  MonthlyInstalments30Days   \n",
       "\n",
       "   NUMBER_OF_INSTALLMENTS  SANCTION_AMT  TOT_OUTSTD_BAL  OVER_DUE_AMT  \\\n",
       "0                     6.0      400000.0            0.00      205609.4   \n",
       "1                    61.0     3500000.0      3272849.49           0.0   \n",
       "2                    57.0     4200000.0       870462.93           0.0   \n",
       "3                    24.0    60000000.0     15740676.93           0.0   \n",
       "4                    69.0     3400000.0       828981.51           0.0   \n",
       "\n",
       "   INSTALLMENT_AMT                 LOAN_TYPE LOAN_STATUS  LOAN_TENURE    DPD  \\\n",
       "0             0.00  OtherInstalmentOperation    Existing        183.0  399.0   \n",
       "1        100243.11              ConsumerLoan    Existing       1832.0    0.0   \n",
       "2        106652.40              ConsumerLoan    Existing       1735.0    0.0   \n",
       "3       2987342.81              BusinessLoan    Existing        730.0   18.0   \n",
       "4         99164.00              ConsumerLoan    Existing       2095.0    0.0   \n",
       "\n",
       "   SANCTION_AMT_LOG  TOT_OUTSTD_BAL_LOG  OVER_DUE_AMT_LOG  \\\n",
       "0         12.899220            0.000000         12.233734   \n",
       "1         15.068274           15.001172          0.000000   \n",
       "2         15.250595           13.676780          0.000000   \n",
       "3         17.909855           16.571759          0.000000   \n",
       "4         15.039286           13.627953          0.000000   \n",
       "\n",
       "   INSTALLMENT_AMT_LOG  IS_DEFAULT  \n",
       "0             0.000000           1  \n",
       "1            11.515354           0  \n",
       "2            11.577330           0  \n",
       "3            14.909895           0  \n",
       "4            11.504530           0  "
      ]
     },
     "execution_count": 57,
     "metadata": {},
     "output_type": "execute_result"
    }
   ],
   "source": [
    "# Create the Risk Identifier Dependant Variable from DPD\n",
    "# Logic: A Loan is default if has DPD > 90 days\n",
    "\n",
    "df3['IS_DEFAULT'] = np.where(df3['DPD'] >= 90, 1, 0)\n",
    "df3.head()"
   ]
  },
  {
   "cell_type": "markdown",
   "metadata": {
    "id": "_XV-Bo90ScID"
   },
   "source": [
    "# Correlation Matrix"
   ]
  },
  {
   "cell_type": "code",
   "execution_count": null,
   "metadata": {
    "colab": {
     "base_uri": "https://localhost:8080/",
     "height": 654
    },
    "id": "gHukRrI5ScDM",
    "outputId": "1e6e139c-0fdd-4e46-d51d-f92d76f3784d"
   },
   "outputs": [
    {
     "data": {
      "text/plain": [
       "<matplotlib.axes._subplots.AxesSubplot at 0x7f89c0c00d50>"
      ]
     },
     "execution_count": 57,
     "metadata": {},
     "output_type": "execute_result"
    },
    {
     "data": {
      "image/png": "[encoded data removed]",
      "text/plain": [
       "<Figure size 1080x576 with 2 Axes>"
      ]
     },
     "metadata": {},
     "output_type": "display_data"
    }
   ],
   "source": [
    "# Keep a copy of the dataframe\n",
    "\n",
    "df4 = df3.copy()\n",
    "\n",
    "\n",
    "# Plot the heatmap to see the best correlated variables\n",
    "\n",
    "corr = df4.corr()\n",
    "plt.figure(figsize=(15,8))\n",
    "sns.heatmap(corr, annot=True, cmap='YlGnBu')"
   ]
  },
  {
   "cell_type": "code",
   "execution_count": null,
   "metadata": {
    "colab": {
     "base_uri": "https://localhost:8080/",
     "height": 270
    },
    "id": "YyboVoHASb9k",
    "outputId": "714570e1-e61f-45e1-a0df-a4ba3eb50e2b"
   },
   "outputs": [
    {
     "data": {
      "text/html": [
       "\n",
       "  <div id=\"df-7904df5a-f1b3-46da-ad82-2db358426034\">\n",
       "    <div class=\"colab-df-container\">\n",
       "      <div>\n",
       "<style scoped>\n",
       "    .dataframe tbody tr th:only-of-type {\n",
       "        vertical-align: middle;\n",
       "    }\n",
       "\n",
       "    .dataframe tbody tr th {\n",
       "        vertical-align: top;\n",
       "    }\n",
       "\n",
       "    .dataframe thead th {\n",
       "        text-align: right;\n",
       "    }\n",
       "</style>\n",
       "<table border=\"1\" class=\"dataframe\">\n",
       "  <thead>\n",
       "    <tr style=\"text-align: right;\">\n",
       "      <th></th>\n",
       "      <th>REPAYMENT_FREQUENCY</th>\n",
       "      <th>NUMBER_OF_INSTALLMENTS</th>\n",
       "      <th>SANCTION_AMT_LOG</th>\n",
       "      <th>TOT_OUTSTD_BAL_LOG</th>\n",
       "      <th>OVER_DUE_AMT_LOG</th>\n",
       "      <th>INSTALLMENT_AMT</th>\n",
       "      <th>LOAN_TYPE</th>\n",
       "      <th>LOAN_STATUS</th>\n",
       "      <th>LOAN_TENURE</th>\n",
       "      <th>IS_DEFAULT</th>\n",
       "    </tr>\n",
       "  </thead>\n",
       "  <tbody>\n",
       "    <tr>\n",
       "      <th>0</th>\n",
       "      <td>MonthlyInstalments30Days</td>\n",
       "      <td>6.0</td>\n",
       "      <td>12.899220</td>\n",
       "      <td>0.000000</td>\n",
       "      <td>12.233734</td>\n",
       "      <td>0.00</td>\n",
       "      <td>OtherInstalmentOperation</td>\n",
       "      <td>Existing</td>\n",
       "      <td>183.0</td>\n",
       "      <td>1</td>\n",
       "    </tr>\n",
       "    <tr>\n",
       "      <th>1</th>\n",
       "      <td>MonthlyInstalments30Days</td>\n",
       "      <td>61.0</td>\n",
       "      <td>15.068274</td>\n",
       "      <td>15.001172</td>\n",
       "      <td>0.000000</td>\n",
       "      <td>100243.11</td>\n",
       "      <td>ConsumerLoan</td>\n",
       "      <td>Existing</td>\n",
       "      <td>1832.0</td>\n",
       "      <td>0</td>\n",
       "    </tr>\n",
       "    <tr>\n",
       "      <th>2</th>\n",
       "      <td>MonthlyInstalments30Days</td>\n",
       "      <td>57.0</td>\n",
       "      <td>15.250595</td>\n",
       "      <td>13.676780</td>\n",
       "      <td>0.000000</td>\n",
       "      <td>106652.40</td>\n",
       "      <td>ConsumerLoan</td>\n",
       "      <td>Existing</td>\n",
       "      <td>1735.0</td>\n",
       "      <td>0</td>\n",
       "    </tr>\n",
       "    <tr>\n",
       "      <th>3</th>\n",
       "      <td>MonthlyInstalments30Days</td>\n",
       "      <td>24.0</td>\n",
       "      <td>17.909855</td>\n",
       "      <td>16.571759</td>\n",
       "      <td>0.000000</td>\n",
       "      <td>2987342.81</td>\n",
       "      <td>BusinessLoan</td>\n",
       "      <td>Existing</td>\n",
       "      <td>730.0</td>\n",
       "      <td>0</td>\n",
       "    </tr>\n",
       "    <tr>\n",
       "      <th>4</th>\n",
       "      <td>MonthlyInstalments30Days</td>\n",
       "      <td>69.0</td>\n",
       "      <td>15.039286</td>\n",
       "      <td>13.627953</td>\n",
       "      <td>0.000000</td>\n",
       "      <td>99164.00</td>\n",
       "      <td>ConsumerLoan</td>\n",
       "      <td>Existing</td>\n",
       "      <td>2095.0</td>\n",
       "      <td>0</td>\n",
       "    </tr>\n",
       "  </tbody>\n",
       "</table>\n",
       "</div>\n",
       "      <button class=\"colab-df-convert\" onclick=\"convertToInteractive('df-7904df5a-f1b3-46da-ad82-2db358426034')\"\n",
       "              title=\"Convert this dataframe to an interactive table.\"\n",
       "              style=\"display:none;\">\n",
       "        \n",
       "  <svg xmlns=\"http://www.w3.org/2000/svg\" height=\"24px\"viewBox=\"0 0 24 24\"\n",
       "       width=\"24px\">\n",
       "    <path d=\"M0 0h24v24H0V0z\" fill=\"none\"/>\n",
       "    <path d=\"M18.56 5.44l.94 2.06.94-2.06 2.06-.94-2.06-.94-.94-2.06-.94 2.06-2.06.94zm-11 1L8.5 8.5l.94-2.06 2.06-.94-2.06-.94L8.5 2.5l-.94 2.06-2.06.94zm10 10l.94 2.06.94-2.06 2.06-.94-2.06-.94-.94-2.06-.94 2.06-2.06.94z\"/><path d=\"M17.41 7.96l-1.37-1.37c-.4-.4-.92-.59-1.43-.59-.52 0-1.04.2-1.43.59L10.3 9.45l-7.72 7.72c-.78.78-.78 2.05 0 2.83L4 21.41c.39.39.9.59 1.41.59.51 0 1.02-.2 1.41-.59l7.78-7.78 2.81-2.81c.8-.78.8-2.07 0-2.86zM5.41 20L4 18.59l7.72-7.72 1.47 1.35L5.41 20z\"/>\n",
       "  </svg>\n",
       "      </button>\n",
       "      \n",
       "  <style>\n",
       "    .colab-df-container {\n",
       "      display:flex;\n",
       "      flex-wrap:wrap;\n",
       "      gap: 12px;\n",
       "    }\n",
       "\n",
       "    .colab-df-convert {\n",
       "      background-color: #E8F0FE;\n",
       "      border: none;\n",
       "      border-radius: 50%;\n",
       "      cursor: pointer;\n",
       "      display: none;\n",
       "      fill: #1967D2;\n",
       "      height: 32px;\n",
       "      padding: 0 0 0 0;\n",
       "      width: 32px;\n",
       "    }\n",
       "\n",
       "    .colab-df-convert:hover {\n",
       "      background-color: #E2EBFA;\n",
       "      box-shadow: 0px 1px 2px rgba(60, 64, 67, 0.3), 0px 1px 3px 1px rgba(60, 64, 67, 0.15);\n",
       "      fill: #174EA6;\n",
       "    }\n",
       "\n",
       "    [theme=dark] .colab-df-convert {\n",
       "      background-color: #3B4455;\n",
       "      fill: #D2E3FC;\n",
       "    }\n",
       "\n",
       "    [theme=dark] .colab-df-convert:hover {\n",
       "      background-color: #434B5C;\n",
       "      box-shadow: 0px 1px 3px 1px rgba(0, 0, 0, 0.15);\n",
       "      filter: drop-shadow(0px 1px 2px rgba(0, 0, 0, 0.3));\n",
       "      fill: #FFFFFF;\n",
       "    }\n",
       "  </style>\n",
       "\n",
       "      <script>\n",
       "        const buttonEl =\n",
       "          document.querySelector('#df-7904df5a-f1b3-46da-ad82-2db358426034 button.colab-df-convert');\n",
       "        buttonEl.style.display =\n",
       "          google.colab.kernel.accessAllowed ? 'block' : 'none';\n",
       "\n",
       "        async function convertToInteractive(key) {\n",
       "          const element = document.querySelector('#df-7904df5a-f1b3-46da-ad82-2db358426034');\n",
       "          const dataTable =\n",
       "            await google.colab.kernel.invokeFunction('convertToInteractive',\n",
       "                                                     [key], {});\n",
       "          if (!dataTable) return;\n",
       "\n",
       "          const docLinkHtml = 'Like what you see? Visit the ' +\n",
       "            '<a target=\"_blank\" href=https://colab.research.google.com/notebooks/data_table.ipynb>data table notebook</a>'\n",
       "            + ' to learn more about interactive tables.';\n",
       "          element.innerHTML = '';\n",
       "          dataTable['output_type'] = 'display_data';\n",
       "          await google.colab.output.renderOutput(dataTable, element);\n",
       "          const docLink = document.createElement('div');\n",
       "          docLink.innerHTML = docLinkHtml;\n",
       "          element.appendChild(docLink);\n",
       "        }\n",
       "      </script>\n",
       "    </div>\n",
       "  </div>\n",
       "  "
      ],
      "text/plain": [
       "        REPAYMENT_FREQUENCY  NUMBER_OF_INSTALLMENTS  SANCTION_AMT_LOG  \\\n",
       "0  MonthlyInstalments30Days                     6.0         12.899220   \n",
       "1  MonthlyInstalments30Days                    61.0         15.068274   \n",
       "2  MonthlyInstalments30Days                    57.0         15.250595   \n",
       "3  MonthlyInstalments30Days                    24.0         17.909855   \n",
       "4  MonthlyInstalments30Days                    69.0         15.039286   \n",
       "\n",
       "   TOT_OUTSTD_BAL_LOG  OVER_DUE_AMT_LOG  INSTALLMENT_AMT  \\\n",
       "0            0.000000         12.233734             0.00   \n",
       "1           15.001172          0.000000        100243.11   \n",
       "2           13.676780          0.000000        106652.40   \n",
       "3           16.571759          0.000000       2987342.81   \n",
       "4           13.627953          0.000000         99164.00   \n",
       "\n",
       "                  LOAN_TYPE LOAN_STATUS  LOAN_TENURE  IS_DEFAULT  \n",
       "0  OtherInstalmentOperation    Existing        183.0           1  \n",
       "1              ConsumerLoan    Existing       1832.0           0  \n",
       "2              ConsumerLoan    Existing       1735.0           0  \n",
       "3              BusinessLoan    Existing        730.0           0  \n",
       "4              ConsumerLoan    Existing       2095.0           0  "
      ]
     },
     "execution_count": 58,
     "metadata": {},
     "output_type": "execute_result"
    }
   ],
   "source": [
    "# Subset only the relevant variables for the modelling\n",
    "\n",
    "features = ['REPAYMENT_FREQUENCY', 'NUMBER_OF_INSTALLMENTS', 'SANCTION_AMT_LOG',\n",
    "            'TOT_OUTSTD_BAL_LOG', 'OVER_DUE_AMT_LOG', 'INSTALLMENT_AMT', \n",
    "            'LOAN_TYPE', 'LOAN_STATUS', 'LOAN_TENURE','IS_DEFAULT']\n",
    "df4 = df4[features]\n",
    "df4.head()"
   ]
  },
  {
   "cell_type": "markdown",
   "metadata": {
    "id": "XfNslhu6Sb6N"
   },
   "source": [
    "# Label Encoding"
   ]
  },
  {
   "cell_type": "code",
   "execution_count": null,
   "metadata": {
    "colab": {
     "base_uri": "https://localhost:8080/",
     "height": 270
    },
    "id": "SsAjDwPHSb3C",
    "outputId": "297243c9-7ef5-4d9e-969a-9416b4878200"
   },
   "outputs": [
    {
     "data": {
      "text/html": [
       "\n",
       "  <div id=\"df-f19c98ad-ef6e-4513-9560-5c57140d21a3\">\n",
       "    <div class=\"colab-df-container\">\n",
       "      <div>\n",
       "<style scoped>\n",
       "    .dataframe tbody tr th:only-of-type {\n",
       "        vertical-align: middle;\n",
       "    }\n",
       "\n",
       "    .dataframe tbody tr th {\n",
       "        vertical-align: top;\n",
       "    }\n",
       "\n",
       "    .dataframe thead th {\n",
       "        text-align: right;\n",
       "    }\n",
       "</style>\n",
       "<table border=\"1\" class=\"dataframe\">\n",
       "  <thead>\n",
       "    <tr style=\"text-align: right;\">\n",
       "      <th></th>\n",
       "      <th>REPAYMENT_FREQUENCY</th>\n",
       "      <th>NUMBER_OF_INSTALLMENTS</th>\n",
       "      <th>SANCTION_AMT_LOG</th>\n",
       "      <th>TOT_OUTSTD_BAL_LOG</th>\n",
       "      <th>OVER_DUE_AMT_LOG</th>\n",
       "      <th>INSTALLMENT_AMT</th>\n",
       "      <th>LOAN_TYPE</th>\n",
       "      <th>LOAN_STATUS</th>\n",
       "      <th>LOAN_TENURE</th>\n",
       "      <th>IS_DEFAULT</th>\n",
       "    </tr>\n",
       "  </thead>\n",
       "  <tbody>\n",
       "    <tr>\n",
       "      <th>0</th>\n",
       "      <td>4</td>\n",
       "      <td>6.0</td>\n",
       "      <td>12.899220</td>\n",
       "      <td>0.000000</td>\n",
       "      <td>12.233734</td>\n",
       "      <td>0.00</td>\n",
       "      <td>5</td>\n",
       "      <td>0</td>\n",
       "      <td>183.0</td>\n",
       "      <td>1</td>\n",
       "    </tr>\n",
       "    <tr>\n",
       "      <th>1</th>\n",
       "      <td>4</td>\n",
       "      <td>61.0</td>\n",
       "      <td>15.068274</td>\n",
       "      <td>15.001172</td>\n",
       "      <td>0.000000</td>\n",
       "      <td>100243.11</td>\n",
       "      <td>1</td>\n",
       "      <td>0</td>\n",
       "      <td>1832.0</td>\n",
       "      <td>0</td>\n",
       "    </tr>\n",
       "    <tr>\n",
       "      <th>2</th>\n",
       "      <td>4</td>\n",
       "      <td>57.0</td>\n",
       "      <td>15.250595</td>\n",
       "      <td>13.676780</td>\n",
       "      <td>0.000000</td>\n",
       "      <td>106652.40</td>\n",
       "      <td>1</td>\n",
       "      <td>0</td>\n",
       "      <td>1735.0</td>\n",
       "      <td>0</td>\n",
       "    </tr>\n",
       "    <tr>\n",
       "      <th>3</th>\n",
       "      <td>4</td>\n",
       "      <td>24.0</td>\n",
       "      <td>17.909855</td>\n",
       "      <td>16.571759</td>\n",
       "      <td>0.000000</td>\n",
       "      <td>2987342.81</td>\n",
       "      <td>0</td>\n",
       "      <td>0</td>\n",
       "      <td>730.0</td>\n",
       "      <td>0</td>\n",
       "    </tr>\n",
       "    <tr>\n",
       "      <th>4</th>\n",
       "      <td>4</td>\n",
       "      <td>69.0</td>\n",
       "      <td>15.039286</td>\n",
       "      <td>13.627953</td>\n",
       "      <td>0.000000</td>\n",
       "      <td>99164.00</td>\n",
       "      <td>1</td>\n",
       "      <td>0</td>\n",
       "      <td>2095.0</td>\n",
       "      <td>0</td>\n",
       "    </tr>\n",
       "  </tbody>\n",
       "</table>\n",
       "</div>\n",
       "      <button class=\"colab-df-convert\" onclick=\"convertToInteractive('df-f19c98ad-ef6e-4513-9560-5c57140d21a3')\"\n",
       "              title=\"Convert this dataframe to an interactive table.\"\n",
       "              style=\"display:none;\">\n",
       "        \n",
       "  <svg xmlns=\"http://www.w3.org/2000/svg\" height=\"24px\"viewBox=\"0 0 24 24\"\n",
       "       width=\"24px\">\n",
       "    <path d=\"M0 0h24v24H0V0z\" fill=\"none\"/>\n",
       "    <path d=\"M18.56 5.44l.94 2.06.94-2.06 2.06-.94-2.06-.94-.94-2.06-.94 2.06-2.06.94zm-11 1L8.5 8.5l.94-2.06 2.06-.94-2.06-.94L8.5 2.5l-.94 2.06-2.06.94zm10 10l.94 2.06.94-2.06 2.06-.94-2.06-.94-.94-2.06-.94 2.06-2.06.94z\"/><path d=\"M17.41 7.96l-1.37-1.37c-.4-.4-.92-.59-1.43-.59-.52 0-1.04.2-1.43.59L10.3 9.45l-7.72 7.72c-.78.78-.78 2.05 0 2.83L4 21.41c.39.39.9.59 1.41.59.51 0 1.02-.2 1.41-.59l7.78-7.78 2.81-2.81c.8-.78.8-2.07 0-2.86zM5.41 20L4 18.59l7.72-7.72 1.47 1.35L5.41 20z\"/>\n",
       "  </svg>\n",
       "      </button>\n",
       "      \n",
       "  <style>\n",
       "    .colab-df-container {\n",
       "      display:flex;\n",
       "      flex-wrap:wrap;\n",
       "      gap: 12px;\n",
       "    }\n",
       "\n",
       "    .colab-df-convert {\n",
       "      background-color: #E8F0FE;\n",
       "      border: none;\n",
       "      border-radius: 50%;\n",
       "      cursor: pointer;\n",
       "      display: none;\n",
       "      fill: #1967D2;\n",
       "      height: 32px;\n",
       "      padding: 0 0 0 0;\n",
       "      width: 32px;\n",
       "    }\n",
       "\n",
       "    .colab-df-convert:hover {\n",
       "      background-color: #E2EBFA;\n",
       "      box-shadow: 0px 1px 2px rgba(60, 64, 67, 0.3), 0px 1px 3px 1px rgba(60, 64, 67, 0.15);\n",
       "      fill: #174EA6;\n",
       "    }\n",
       "\n",
       "    [theme=dark] .colab-df-convert {\n",
       "      background-color: #3B4455;\n",
       "      fill: #D2E3FC;\n",
       "    }\n",
       "\n",
       "    [theme=dark] .colab-df-convert:hover {\n",
       "      background-color: #434B5C;\n",
       "      box-shadow: 0px 1px 3px 1px rgba(0, 0, 0, 0.15);\n",
       "      filter: drop-shadow(0px 1px 2px rgba(0, 0, 0, 0.3));\n",
       "      fill: #FFFFFF;\n",
       "    }\n",
       "  </style>\n",
       "\n",
       "      <script>\n",
       "        const buttonEl =\n",
       "          document.querySelector('#df-f19c98ad-ef6e-4513-9560-5c57140d21a3 button.colab-df-convert');\n",
       "        buttonEl.style.display =\n",
       "          google.colab.kernel.accessAllowed ? 'block' : 'none';\n",
       "\n",
       "        async function convertToInteractive(key) {\n",
       "          const element = document.querySelector('#df-f19c98ad-ef6e-4513-9560-5c57140d21a3');\n",
       "          const dataTable =\n",
       "            await google.colab.kernel.invokeFunction('convertToInteractive',\n",
       "                                                     [key], {});\n",
       "          if (!dataTable) return;\n",
       "\n",
       "          const docLinkHtml = 'Like what you see? Visit the ' +\n",
       "            '<a target=\"_blank\" href=https://colab.research.google.com/notebooks/data_table.ipynb>data table notebook</a>'\n",
       "            + ' to learn more about interactive tables.';\n",
       "          element.innerHTML = '';\n",
       "          dataTable['output_type'] = 'display_data';\n",
       "          await google.colab.output.renderOutput(dataTable, element);\n",
       "          const docLink = document.createElement('div');\n",
       "          docLink.innerHTML = docLinkHtml;\n",
       "          element.appendChild(docLink);\n",
       "        }\n",
       "      </script>\n",
       "    </div>\n",
       "  </div>\n",
       "  "
      ],
      "text/plain": [
       "   REPAYMENT_FREQUENCY  NUMBER_OF_INSTALLMENTS  SANCTION_AMT_LOG  \\\n",
       "0                    4                     6.0         12.899220   \n",
       "1                    4                    61.0         15.068274   \n",
       "2                    4                    57.0         15.250595   \n",
       "3                    4                    24.0         17.909855   \n",
       "4                    4                    69.0         15.039286   \n",
       "\n",
       "   TOT_OUTSTD_BAL_LOG  OVER_DUE_AMT_LOG  INSTALLMENT_AMT  LOAN_TYPE  \\\n",
       "0            0.000000         12.233734             0.00          5   \n",
       "1           15.001172          0.000000        100243.11          1   \n",
       "2           13.676780          0.000000        106652.40          1   \n",
       "3           16.571759          0.000000       2987342.81          0   \n",
       "4           13.627953          0.000000         99164.00          1   \n",
       "\n",
       "   LOAN_STATUS  LOAN_TENURE  IS_DEFAULT  \n",
       "0            0        183.0           1  \n",
       "1            0       1832.0           0  \n",
       "2            0       1735.0           0  \n",
       "3            0        730.0           0  \n",
       "4            0       2095.0           0  "
      ]
     },
     "execution_count": 59,
     "metadata": {},
     "output_type": "execute_result"
    }
   ],
   "source": [
    "from sklearn.preprocessing import LabelEncoder\n",
    "\n",
    "cols = ['REPAYMENT_FREQUENCY', 'LOAN_TYPE','LOAN_STATUS']\n",
    "le = LabelEncoder()\n",
    "for col in cols:\n",
    "  df4[col] = le.fit_transform(df4[col])\n",
    "\n",
    "df4.head()"
   ]
  },
  {
   "cell_type": "code",
   "execution_count": null,
   "metadata": {
    "colab": {
     "base_uri": "https://localhost:8080/",
     "height": 206
    },
    "id": "7meacJs6nf2L",
    "outputId": "533fc3ca-0f60-4477-9e15-84e1e67f9507"
   },
   "outputs": [
    {
     "data": {
      "text/html": [
       "\n",
       "  <div id=\"df-9ca25d6b-e871-4541-9618-b2fa6c0553b8\">\n",
       "    <div class=\"colab-df-container\">\n",
       "      <div>\n",
       "<style scoped>\n",
       "    .dataframe tbody tr th:only-of-type {\n",
       "        vertical-align: middle;\n",
       "    }\n",
       "\n",
       "    .dataframe tbody tr th {\n",
       "        vertical-align: top;\n",
       "    }\n",
       "\n",
       "    .dataframe thead th {\n",
       "        text-align: right;\n",
       "    }\n",
       "</style>\n",
       "<table border=\"1\" class=\"dataframe\">\n",
       "  <thead>\n",
       "    <tr style=\"text-align: right;\">\n",
       "      <th></th>\n",
       "      <th>REPAYMENT_FREQUENCY</th>\n",
       "      <th>LOAN_TYPE</th>\n",
       "      <th>LOAN_STATUS</th>\n",
       "    </tr>\n",
       "  </thead>\n",
       "  <tbody>\n",
       "    <tr>\n",
       "      <th>0</th>\n",
       "      <td>4</td>\n",
       "      <td>5</td>\n",
       "      <td>0</td>\n",
       "    </tr>\n",
       "    <tr>\n",
       "      <th>1</th>\n",
       "      <td>4</td>\n",
       "      <td>1</td>\n",
       "      <td>0</td>\n",
       "    </tr>\n",
       "    <tr>\n",
       "      <th>2</th>\n",
       "      <td>4</td>\n",
       "      <td>1</td>\n",
       "      <td>0</td>\n",
       "    </tr>\n",
       "    <tr>\n",
       "      <th>3</th>\n",
       "      <td>4</td>\n",
       "      <td>0</td>\n",
       "      <td>0</td>\n",
       "    </tr>\n",
       "    <tr>\n",
       "      <th>4</th>\n",
       "      <td>4</td>\n",
       "      <td>1</td>\n",
       "      <td>0</td>\n",
       "    </tr>\n",
       "  </tbody>\n",
       "</table>\n",
       "</div>\n",
       "      <button class=\"colab-df-convert\" onclick=\"convertToInteractive('df-9ca25d6b-e871-4541-9618-b2fa6c0553b8')\"\n",
       "              title=\"Convert this dataframe to an interactive table.\"\n",
       "              style=\"display:none;\">\n",
       "        \n",
       "  <svg xmlns=\"http://www.w3.org/2000/svg\" height=\"24px\"viewBox=\"0 0 24 24\"\n",
       "       width=\"24px\">\n",
       "    <path d=\"M0 0h24v24H0V0z\" fill=\"none\"/>\n",
       "    <path d=\"M18.56 5.44l.94 2.06.94-2.06 2.06-.94-2.06-.94-.94-2.06-.94 2.06-2.06.94zm-11 1L8.5 8.5l.94-2.06 2.06-.94-2.06-.94L8.5 2.5l-.94 2.06-2.06.94zm10 10l.94 2.06.94-2.06 2.06-.94-2.06-.94-.94-2.06-.94 2.06-2.06.94z\"/><path d=\"M17.41 7.96l-1.37-1.37c-.4-.4-.92-.59-1.43-.59-.52 0-1.04.2-1.43.59L10.3 9.45l-7.72 7.72c-.78.78-.78 2.05 0 2.83L4 21.41c.39.39.9.59 1.41.59.51 0 1.02-.2 1.41-.59l7.78-7.78 2.81-2.81c.8-.78.8-2.07 0-2.86zM5.41 20L4 18.59l7.72-7.72 1.47 1.35L5.41 20z\"/>\n",
       "  </svg>\n",
       "      </button>\n",
       "      \n",
       "  <style>\n",
       "    .colab-df-container {\n",
       "      display:flex;\n",
       "      flex-wrap:wrap;\n",
       "      gap: 12px;\n",
       "    }\n",
       "\n",
       "    .colab-df-convert {\n",
       "      background-color: #E8F0FE;\n",
       "      border: none;\n",
       "      border-radius: 50%;\n",
       "      cursor: pointer;\n",
       "      display: none;\n",
       "      fill: #1967D2;\n",
       "      height: 32px;\n",
       "      padding: 0 0 0 0;\n",
       "      width: 32px;\n",
       "    }\n",
       "\n",
       "    .colab-df-convert:hover {\n",
       "      background-color: #E2EBFA;\n",
       "      box-shadow: 0px 1px 2px rgba(60, 64, 67, 0.3), 0px 1px 3px 1px rgba(60, 64, 67, 0.15);\n",
       "      fill: #174EA6;\n",
       "    }\n",
       "\n",
       "    [theme=dark] .colab-df-convert {\n",
       "      background-color: #3B4455;\n",
       "      fill: #D2E3FC;\n",
       "    }\n",
       "\n",
       "    [theme=dark] .colab-df-convert:hover {\n",
       "      background-color: #434B5C;\n",
       "      box-shadow: 0px 1px 3px 1px rgba(0, 0, 0, 0.15);\n",
       "      filter: drop-shadow(0px 1px 2px rgba(0, 0, 0, 0.3));\n",
       "      fill: #FFFFFF;\n",
       "    }\n",
       "  </style>\n",
       "\n",
       "      <script>\n",
       "        const buttonEl =\n",
       "          document.querySelector('#df-9ca25d6b-e871-4541-9618-b2fa6c0553b8 button.colab-df-convert');\n",
       "        buttonEl.style.display =\n",
       "          google.colab.kernel.accessAllowed ? 'block' : 'none';\n",
       "\n",
       "        async function convertToInteractive(key) {\n",
       "          const element = document.querySelector('#df-9ca25d6b-e871-4541-9618-b2fa6c0553b8');\n",
       "          const dataTable =\n",
       "            await google.colab.kernel.invokeFunction('convertToInteractive',\n",
       "                                                     [key], {});\n",
       "          if (!dataTable) return;\n",
       "\n",
       "          const docLinkHtml = 'Like what you see? Visit the ' +\n",
       "            '<a target=\"_blank\" href=https://colab.research.google.com/notebooks/data_table.ipynb>data table notebook</a>'\n",
       "            + ' to learn more about interactive tables.';\n",
       "          element.innerHTML = '';\n",
       "          dataTable['output_type'] = 'display_data';\n",
       "          await google.colab.output.renderOutput(dataTable, element);\n",
       "          const docLink = document.createElement('div');\n",
       "          docLink.innerHTML = docLinkHtml;\n",
       "          element.appendChild(docLink);\n",
       "        }\n",
       "      </script>\n",
       "    </div>\n",
       "  </div>\n",
       "  "
      ],
      "text/plain": [
       "   REPAYMENT_FREQUENCY  LOAN_TYPE  LOAN_STATUS\n",
       "0                    4          5            0\n",
       "1                    4          1            0\n",
       "2                    4          1            0\n",
       "3                    4          0            0\n",
       "4                    4          1            0"
      ]
     },
     "execution_count": 60,
     "metadata": {},
     "output_type": "execute_result"
    }
   ],
   "source": [
    "df4[['REPAYMENT_FREQUENCY', 'LOAN_TYPE','LOAN_STATUS']].head()"
   ]
  },
  {
   "cell_type": "markdown",
   "metadata": {
    "id": "NH_X6kuFSb0Q"
   },
   "source": [
    "# Train Test Split"
   ]
  },
  {
   "cell_type": "code",
   "execution_count": null,
   "metadata": {
    "id": "74vptePHSbxb"
   },
   "outputs": [],
   "source": [
    "# Specifying the input and output attributes\n",
    "\n",
    "X = df4.drop(columns=['IS_DEFAULT'], axis=1)\n",
    "y = df4['IS_DEFAULT']"
   ]
  },
  {
   "cell_type": "code",
   "execution_count": null,
   "metadata": {
    "id": "WDkaZefWCqju"
   },
   "outputs": [],
   "source": [
    "from sklearn.model_selection import train_test_split\n",
    "\n",
    "X_train, X_test, y_train, y_test = train_test_split(X, y, test_size=0.25, random_state=42)"
   ]
  },
  {
   "cell_type": "markdown",
   "metadata": {
    "id": "5eTGcLlg_bRB"
   },
   "source": [
    "# Model Training"
   ]
  },
  {
   "cell_type": "code",
   "execution_count": null,
   "metadata": {
    "id": "T7toCIk1_g-n"
   },
   "outputs": [],
   "source": [
    "# Classify function\n",
    "from sklearn.model_selection import cross_val_score\n",
    "\n",
    "def classify_model(model, x, y):\n",
    "    X_train, X_test, y_train, y_test = train_test_split(X, y, test_size=0.25, random_state=42)\n",
    "    model.fit(X_train, y_train)\n",
    "    print('Accuracy is: ', model.score(X_test, y_test)*100)\n",
    "\n",
    "    # Cross validation\n",
    "    score = cross_val_score(model, X, y, cv=5)\n",
    "    print('Cross Validation Score: ', np.mean(score)*100)"
   ]
  },
  {
   "cell_type": "code",
   "execution_count": null,
   "metadata": {
    "colab": {
     "base_uri": "https://localhost:8080/"
    },
    "id": "s6--L0Sg_iF_",
    "outputId": "91c80755-3694-4691-f44f-ee6c2aaff1cc"
   },
   "outputs": [
    {
     "name": "stdout",
     "output_type": "stream",
     "text": [
      "Accuracy is:  93.8255033557047\n",
      "Cross Validation Score:  94.12751677852349\n"
     ]
    }
   ],
   "source": [
    "# Logistic Regression Model\n",
    "from sklearn.linear_model import LogisticRegression\n",
    "\n",
    "model = LogisticRegression()\n",
    "classify_model(model, X, y)"
   ]
  },
  {
   "cell_type": "code",
   "execution_count": null,
   "metadata": {
    "colab": {
     "base_uri": "https://localhost:8080/"
    },
    "id": "6tbkCMGI_hzq",
    "outputId": "64cbbf0e-de78-4aaa-9737-390a388b218c"
   },
   "outputs": [
    {
     "name": "stdout",
     "output_type": "stream",
     "text": [
      "Accuracy is:  97.6510067114094\n",
      "Cross Validation Score:  97.21476510067116\n"
     ]
    }
   ],
   "source": [
    "# DecisionTree Classifier Model\n",
    "from sklearn.tree import DecisionTreeClassifier\n",
    "\n",
    "model = DecisionTreeClassifier()\n",
    "classify_model(model, X, y)"
   ]
  },
  {
   "cell_type": "code",
   "execution_count": null,
   "metadata": {
    "colab": {
     "base_uri": "https://localhost:8080/"
    },
    "id": "Vca4Nl_p_hh3",
    "outputId": "486cebf9-1f8c-430b-98ba-924798563e0c"
   },
   "outputs": [
    {
     "name": "stdout",
     "output_type": "stream",
     "text": [
      "Accuracy is:  98.12080536912752\n",
      "Cross Validation Score:  98.0536912751678\n"
     ]
    }
   ],
   "source": [
    "# RandomForest Classifier Model\n",
    "from sklearn.ensemble import RandomForestClassifier\n",
    "\n",
    "model = RandomForestClassifier()\n",
    "classify_model(model, X, y)"
   ]
  },
  {
   "cell_type": "markdown",
   "metadata": {
    "id": "SXWL6giC_g68"
   },
   "source": [
    "# Confusion Matrix"
   ]
  },
  {
   "cell_type": "code",
   "execution_count": null,
   "metadata": {
    "colab": {
     "base_uri": "https://localhost:8080/"
    },
    "id": "IDF2qniX_g2y",
    "outputId": "5c8f9b2a-c2c5-4a6e-86b7-cb1f988a25c8"
   },
   "outputs": [
    {
     "data": {
      "text/plain": [
       "RandomForestClassifier()"
      ]
     },
     "execution_count": 67,
     "metadata": {},
     "output_type": "execute_result"
    }
   ],
   "source": [
    "# Since the RandomForest Model perfoms better, we shall use it further\n",
    "\n",
    "model = RandomForestClassifier()\n",
    "model.fit(X_train, y_train)"
   ]
  },
  {
   "cell_type": "code",
   "execution_count": null,
   "metadata": {
    "colab": {
     "base_uri": "https://localhost:8080/"
    },
    "id": "pCvRWrue_gxB",
    "outputId": "cfa90b4e-bb86-4338-d715-c35590c861a0"
   },
   "outputs": [
    {
     "data": {
      "text/plain": [
       "array([[1379,   19],\n",
       "       [   8,   84]])"
      ]
     },
     "execution_count": 68,
     "metadata": {},
     "output_type": "execute_result"
    }
   ],
   "source": [
    "from sklearn.metrics import confusion_matrix\n",
    "\n",
    "y_pred = model.predict(X_test)\n",
    "cm = confusion_matrix(y_test, y_pred)\n",
    "cm"
   ]
  },
  {
   "cell_type": "code",
   "execution_count": null,
   "metadata": {
    "colab": {
     "base_uri": "https://localhost:8080/",
     "height": 286
    },
    "id": "KuqidHF1Jed6",
    "outputId": "a9ec7a02-c884-436e-8e1b-9576a21eb242"
   },
   "outputs": [
    {
     "data": {
      "text/plain": [
       "<matplotlib.axes._subplots.AxesSubplot at 0x7f89bffab710>"
      ]
     },
     "execution_count": 69,
     "metadata": {},
     "output_type": "execute_result"
    },
    {
     "data": {
      "image/png": "[encoded data removed]",
      "text/plain": [
       "<Figure size 432x288 with 2 Axes>"
      ]
     },
     "metadata": {},
     "output_type": "display_data"
    }
   ],
   "source": [
    "sns.heatmap(cm, annot=True, cmap='BrBG_r')"
   ]
  },
  {
   "cell_type": "code",
   "execution_count": null,
   "metadata": {
    "id": "-jlssUYhuHl6"
   },
   "outputs": [],
   "source": []
  },
  {
   "cell_type": "code",
   "execution_count": null,
   "metadata": {
    "id": "tpq9Z-yHJl3-"
   },
   "outputs": [],
   "source": []
  },
  {
   "cell_type": "code",
   "execution_count": null,
   "metadata": {
    "id": "d8TfgflBd3_F"
   },
   "outputs": [],
   "source": []
  }
 ],
 "metadata": {
  "colab": {
   "collapsed_sections": [],
   "provenance": []
  },
  "kernelspec": {
   "display_name": "Python 3",
   "language": "python",
   "name": "python3"
  },
  "language_info": {
   "codemirror_mode": {
    "name": "ipython",
    "version": 3
   },
   "file_extension": ".py",
   "mimetype": "text/x-python",
   "name": "python",
   "nbconvert_exporter": "python",
   "pygments_lexer": "ipython3",
   "version": "3.8.3"
  }
 },
 "nbformat": 4,
 "nbformat_minor": 1
}
