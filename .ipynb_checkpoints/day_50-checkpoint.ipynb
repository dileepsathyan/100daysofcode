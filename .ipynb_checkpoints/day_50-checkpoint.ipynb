{
 "cells": [
  {
   "cell_type": "markdown",
   "metadata": {},
   "source": [
    "# Stationarity in Time Series Data"
   ]
  },
  {
   "cell_type": "markdown",
   "metadata": {},
   "source": [
    "## What is Stationarity?\n",
    "\n",
    "\n",
    "### A Stationary Time Series is one whose properties do not change over time. Especially the below metrics,\n",
    "\n",
    "### 1. Mean, \n",
    "### 2. Variance and \n",
    "### 3. Autocorrelation (seasonality)\n",
    "\n",
    "### of the time series will be constant over time."
   ]
  },
  {
   "cell_type": "markdown",
   "metadata": {},
   "source": [
    "## Why Stationarity is important in Time Series Analysis.\n",
    "\n",
    "### Most of the models assume that the observed data comes from a stationary process (constant mean and variance)\n",
    "### However, the data from a business (be it sales revenue or customers) evolve over time, hence making it non-stationary and may include seasonality depending on the nature of the business. Using non-stationary time series data in the models, result in concluding high R-Squared values between 2 variables which are not at all related but only changes over time.\n",
    "\n",
    "\n",
    "### When data mean and variance are time variant:\n",
    "#### * Observations come from different distributions over time, posing difficult problems for empirical modeling.\n",
    "#### * If not accounted for, it can result in serious statistical mistakes.\n",
    "\n",
    "### What causes non-stationarity?\n",
    "#### * Economic evolution, legislative changes, technological changes, political turmoil etc\n",
    "#### * And it can be elimiated by data transformations"
   ]
  },
  {
   "cell_type": "markdown",
   "metadata": {},
   "source": [
    "### How to test stationarity?\n",
    "\n",
    "#### Augmented Dickey-Fuller Test\n",
    "\n",
    "from statsmodels.tsa.stattools import adfuller\n",
    "\n",
    "adftest = adfuller(df)\n",
    "\n",
    "print('p-value of adftest = '+ adftest[1])\n",
    "\n",
    "##### Result: Lower p-value (< 0.5) implies that the series is stationary"
   ]
  },
  {
   "cell_type": "markdown",
   "metadata": {},
   "source": [
    "### Making the time series Stationary...\n",
    "\n",
    "\n",
    "#### Since the non-stationarity can be caused in ways (mean, variance and Autocorrelation), there are 3 ways to fix them."
   ]
  },
  {
   "cell_type": "markdown",
   "metadata": {},
   "source": [
    "#### Method# 1: Differencing the Mean"
   ]
  },
  {
   "cell_type": "code",
   "execution_count": null,
   "metadata": {},
   "outputs": [],
   "source": [
    "import pandas as pd\n",
    "\n",
    "series = pd.read_csv()"
   ]
  }
 ],
 "metadata": {
  "kernelspec": {
   "display_name": "Python 3",
   "language": "python",
   "name": "python3"
  },
  "language_info": {
   "codemirror_mode": {
    "name": "ipython",
    "version": 3
   },
   "file_extension": ".py",
   "mimetype": "text/x-python",
   "name": "python",
   "nbconvert_exporter": "python",
   "pygments_lexer": "ipython3",
   "version": "3.8.3"
  }
 },
 "nbformat": 4,
 "nbformat_minor": 4
}
