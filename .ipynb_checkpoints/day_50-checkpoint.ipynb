{
 "cells": [
  {
   "cell_type": "markdown",
   "metadata": {},
   "source": [
    "# Stationarity in Time Series Data"
   ]
  },
  {
   "cell_type": "markdown",
   "metadata": {},
   "source": [
    "## What is Stationarity?\n",
    "\n",
    "\n",
    "### A Stationary Time Series is one whose properties do not change over time. Especially the below metrics,\n",
    "\n",
    "### 1. Mean, \n",
    "### 2. Variance and \n",
    "### 3. Autocorrelation (seasonality)\n",
    "\n",
    "### of the time series will be constant over time."
   ]
  },
  {
   "cell_type": "markdown",
   "metadata": {},
   "source": [
    "## Why Stationarity is important in Time Series Analysis.\n",
    "\n",
    "### Most of the models assume that the observed data comes from a stationary process (constant mean and variance)\n",
    "### However, the data from a business (be it sales revenue or customers) evolve over time, hence making it non-stationary and may include seasonality depending on the nature of the business. Using non-stationary time series data in the models, result in concluding high R-Squared values between 2 variables which are not at all related but only changes over time.\n",
    "\n",
    "\n",
    "### When data mean and variance are time variant:\n",
    "#### * Observations come from different distributions over time, posing difficult problems for empirical modeling.\n",
    "#### * If not accounted for, it can result in serious statistical mistakes.\n",
    "\n",
    "### What causes non-stationarity?\n",
    "#### * Economic evolution, legislative changes, technological changes, political turmoil etc\n",
    "#### * And it can be elimiated by data transformations"
   ]
  },
  {
   "cell_type": "markdown",
   "metadata": {},
   "source": [
    "### How to test stationarity?\n",
    "\n",
    "#### Augmented Dickey-Fuller Test\n",
    "\n",
    "from statsmodels.tsa.stattools import adfuller\n",
    "\n",
    "adftest = adfuller(df)\n",
    "\n",
    "print('p-value of adftest = '+ adftest[1])\n",
    "\n",
    "##### Result: Lower p-value (< 0.5) implies that the series is stationary"
   ]
  },
  {
   "cell_type": "markdown",
   "metadata": {},
   "source": [
    "### Making the time series Stationary...\n",
    "\n",
    "\n",
    "#### Since the non-stationarity can be caused in ways (mean, variance and Autocorrelation), there are 3 ways to fix them."
   ]
  },
  {
   "cell_type": "markdown",
   "metadata": {},
   "source": [
    "#### Method# 1: Differencing the Mean"
   ]
  },
  {
   "cell_type": "code",
   "execution_count": 91,
   "metadata": {},
   "outputs": [
    {
     "data": {
      "text/html": [
       "<div>\n",
       "<style scoped>\n",
       "    .dataframe tbody tr th:only-of-type {\n",
       "        vertical-align: middle;\n",
       "    }\n",
       "\n",
       "    .dataframe tbody tr th {\n",
       "        vertical-align: top;\n",
       "    }\n",
       "\n",
       "    .dataframe thead th {\n",
       "        text-align: right;\n",
       "    }\n",
       "</style>\n",
       "<table border=\"1\" class=\"dataframe\">\n",
       "  <thead>\n",
       "    <tr style=\"text-align: right;\">\n",
       "      <th></th>\n",
       "      <th>datesold</th>\n",
       "      <th>postcode</th>\n",
       "      <th>price</th>\n",
       "      <th>propertyType</th>\n",
       "      <th>bedrooms</th>\n",
       "    </tr>\n",
       "  </thead>\n",
       "  <tbody>\n",
       "    <tr>\n",
       "      <th>0</th>\n",
       "      <td>2007-02-07 00:00:00</td>\n",
       "      <td>2607</td>\n",
       "      <td>525000</td>\n",
       "      <td>house</td>\n",
       "      <td>4</td>\n",
       "    </tr>\n",
       "    <tr>\n",
       "      <th>1</th>\n",
       "      <td>2007-02-27 00:00:00</td>\n",
       "      <td>2906</td>\n",
       "      <td>290000</td>\n",
       "      <td>house</td>\n",
       "      <td>3</td>\n",
       "    </tr>\n",
       "    <tr>\n",
       "      <th>2</th>\n",
       "      <td>2007-03-07 00:00:00</td>\n",
       "      <td>2905</td>\n",
       "      <td>328000</td>\n",
       "      <td>house</td>\n",
       "      <td>3</td>\n",
       "    </tr>\n",
       "    <tr>\n",
       "      <th>3</th>\n",
       "      <td>2007-03-09 00:00:00</td>\n",
       "      <td>2905</td>\n",
       "      <td>380000</td>\n",
       "      <td>house</td>\n",
       "      <td>4</td>\n",
       "    </tr>\n",
       "    <tr>\n",
       "      <th>4</th>\n",
       "      <td>2007-03-21 00:00:00</td>\n",
       "      <td>2906</td>\n",
       "      <td>310000</td>\n",
       "      <td>house</td>\n",
       "      <td>3</td>\n",
       "    </tr>\n",
       "  </tbody>\n",
       "</table>\n",
       "</div>"
      ],
      "text/plain": [
       "              datesold  postcode   price propertyType  bedrooms\n",
       "0  2007-02-07 00:00:00      2607  525000        house         4\n",
       "1  2007-02-27 00:00:00      2906  290000        house         3\n",
       "2  2007-03-07 00:00:00      2905  328000        house         3\n",
       "3  2007-03-09 00:00:00      2905  380000        house         4\n",
       "4  2007-03-21 00:00:00      2906  310000        house         3"
      ]
     },
     "execution_count": 91,
     "metadata": {},
     "output_type": "execute_result"
    }
   ],
   "source": [
    "import pandas as pd\n",
    "import matplotlib.pyplot as plt\n",
    "%matplotlib inline\n",
    "\n",
    "series = pd.read_csv('/Users/dileepsathyan/Documents/GitHub/datasets/raw_sales.csv')\n",
    "series.head()"
   ]
  },
  {
   "cell_type": "code",
   "execution_count": 92,
   "metadata": {},
   "outputs": [
    {
     "data": {
      "text/plain": [
       "[<matplotlib.lines.Line2D at 0x7fdf357b37f0>]"
      ]
     },
     "execution_count": 92,
     "metadata": {},
     "output_type": "execute_result"
    },
    {
     "data": {
      "image/png": "[encoded data removed]",
      "text/plain": [
       "<Figure size 576x360 with 1 Axes>"
      ]
     },
     "metadata": {
      "needs_background": "light"
     },
     "output_type": "display_data"
    }
   ],
   "source": [
    "series['datesold'] = pd.to_datetime(series['datesold'])\n",
    "series1 = series[['datesold', 'price']].set_index('datesold')[:50]\n",
    "\n",
    "fig = plt.figure(figsize=(8,5))\n",
    "plt.plot(series1)"
   ]
  },
  {
   "cell_type": "code",
   "execution_count": 93,
   "metadata": {},
   "outputs": [
    {
     "name": "stdout",
     "output_type": "stream",
     "text": [
      "p-value of series = 9.771452321566378e-11\n"
     ]
    }
   ],
   "source": [
    "# Check the stationarity using ADFULLER Test\n",
    "\n",
    "from statsmodels.tsa.stattools import adfuller\n",
    "\n",
    "\n",
    "adftest = adfuller(series1)\n",
    "print('p-value of series = '+ str(adftest[1]))"
   ]
  },
  {
   "cell_type": "code",
   "execution_count": null,
   "metadata": {},
   "outputs": [],
   "source": [
    "# Adfuller test results in p-value of 9.77 which is much higher than 0.05 and hence the series is non-stationary\n",
    "\n",
    "# So, use Differencing to make it stationary. By this way, it brings down a stationary mean for the time series.\n",
    "\n",
    "series2 = series1.diff()\n",
    "\n",
    "fig = plt.figure(figsize=(8,5))\n",
    "plt.plot(series2)"
   ]
  },
  {
   "cell_type": "markdown",
   "metadata": {},
   "source": [
    "#### Method# 2: Smoothing the Seasonality"
   ]
  },
  {
   "cell_type": "code",
   "execution_count": null,
   "metadata": {},
   "outputs": [],
   "source": [
    "# Import a dataset with seasonality\n",
    "\n",
    "sales = pd.read_csv('/Users/dileepsathyan/Documents/GitHub/datasets/ts_sales_data.csv')\n",
    "sales = sales[:75]\n",
    "\n",
    "sales.head()"
   ]
  },
  {
   "cell_type": "code",
   "execution_count": null,
   "metadata": {},
   "outputs": [],
   "source": [
    "sales['date'] = pd.to_datetime(sales['date'])\n",
    "sales = sales.set_index('date')\n",
    "sales.plot()"
   ]
  },
  {
   "cell_type": "code",
   "execution_count": null,
   "metadata": {},
   "outputs": [],
   "source": [
    "# Check the stationarity using the ADFULLER test to notice the p-value\n",
    "\n",
    "adftest = adfuller(sales)\n",
    "print('p-value of series = '+ str(adftest[1]))"
   ]
  },
  {
   "cell_type": "code",
   "execution_count": null,
   "metadata": {},
   "outputs": [],
   "source": [
    "# Since the p-value (0.85) is higher than 0.05, the series is non-stationary.\n",
    "# In order to make the series Stationary we need to smoothen the seasonality.\n",
    "# As we can identify the seasonality every year from the plot, we shall use 12 months period for Differenciation.\n",
    "\n",
    "sales1 = sales.diff(periods=12)\n",
    "sales1 = sales1.dropna()\n",
    "\n",
    "sales1.plot()"
   ]
  },
  {
   "cell_type": "markdown",
   "metadata": {},
   "source": [
    "#### Method# 3: Smoothing the Variance"
   ]
  },
  {
   "cell_type": "code",
   "execution_count": null,
   "metadata": {},
   "outputs": [],
   "source": [
    "# Import the dataset and make it Variance varying series\n",
    "\n",
    "df = pd.read_csv('/Users/dileepsathyan/Documents/GitHub/datasets/ts_sales_data.csv', parse_dates=['date'])\n",
    "df = df.set_index('date')\n",
    "df = df.diff(periods=12).dropna()\n",
    "df.plot()"
   ]
  },
  {
   "cell_type": "code",
   "execution_count": null,
   "metadata": {},
   "outputs": [],
   "source": [
    "# Take the log of the values and Differenciate it to normalise the time varying Variance.\n",
    "\n",
    "import numpy as np\n",
    "\n",
    "df1 = np.log(df)\n",
    "\n",
    "df1 = df1.diff()\n",
    "df1.plot()"
   ]
  },
  {
   "cell_type": "code",
   "execution_count": null,
   "metadata": {},
   "outputs": [],
   "source": []
  }
 ],
 "metadata": {
  "kernelspec": {
   "display_name": "Python 3",
   "language": "python",
   "name": "python3"
  },
  "language_info": {
   "codemirror_mode": {
    "name": "ipython",
    "version": 3
   },
   "file_extension": ".py",
   "mimetype": "text/x-python",
   "name": "python",
   "nbconvert_exporter": "python",
   "pygments_lexer": "ipython3",
   "version": "3.8.3"
  }
 },
 "nbformat": 4,
 "nbformat_minor": 4
}
